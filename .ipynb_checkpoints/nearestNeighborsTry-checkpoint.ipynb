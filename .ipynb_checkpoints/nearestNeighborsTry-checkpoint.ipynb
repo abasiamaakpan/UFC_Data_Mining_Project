{
 "cells": [
  {
   "cell_type": "markdown",
   "metadata": {},
   "source": [
    "# Project"
   ]
  },
  {
   "cell_type": "markdown",
   "metadata": {},
   "source": [
    "# Notebook Overview: kNN k-Nearest Neighbors\n"
   ]
  },
  {
   "cell_type": "markdown",
   "metadata": {},
   "source": [
    "This particular notebook demonstrates an application of k-Nearest Neighbors on a truncated dataset. \n",
    "\n",
    "The data looks at successfully landed stats for the first instance of a B_fighter. \n",
    "\n",
    "-Ultimately, this means that we have to eventually modify the data in that we average of that fighter's record. For example, if Khabib Nurmagomedov, over three matches, had 5,8,3 takedowns, then possibly we can modify that record into \n",
    "the average over those instances (meaning: Khabib Nurmagomedov Takedown: 5.3 as opposed to Khabib 3, Khabib 5, Khabib 3). Or double check the cvs zip to see if maybe another dataset offered is more beneficial. \n",
    "\n",
    "-Does not cluster by weight class. Currently, weight class is represented by a string, which I have to go through and change to be the numeric value\n",
    "\n",
    "-Does not cluster by gender. Need to add a bool value row which would indicate if the fighter is male or female. \n",
    "This can be filtered by using the weight_class's string, which says \"Women's Bantamweight\" vs \"Bantamweight\". \n",
    "\n",
    "-TODO: \n",
    "In the fighter_indeces, need to get the index that corresponds with the fighter. \n",
    "ex: (def fighter_index (fighter) =..... , fighter_index(\"Amanda Nunes\") = 80) \n",
    "\n",
    "Need to produces the recommendations list for that fighter using fighter_index \n",
    "ex: (def getRecommendationsfor(\"Amanda Nunes\"):.....\", getRecommendationsfor(\"Amanda Nunes\") = \"Valentina Schevchenko\"). \n",
    "\n",
    "Note: Schevchenko's just a guess, but more than likely, they would be similar fighters. \n",
    "\n",
    "\n",
    "\n",
    "Application starts at In[48]. "
   ]
  },
  {
   "cell_type": "markdown",
   "metadata": {},
   "source": [
    "## Data Cleaning and Imputation"
   ]
  },
  {
   "cell_type": "markdown",
   "metadata": {},
   "source": [
    "We begin by loading the dataset, and showing a few of the matches to prove the data has been loaded."
   ]
  },
  {
   "cell_type": "code",
   "execution_count": null,
   "metadata": {
    "scrolled": true
   },
   "outputs": [],
   "source": [
    "import pandas as pd\n",
    "df = pd.read_csv(\"data.csv\")\n",
    "df.head(5)"
   ]
  },
  {
   "cell_type": "markdown",
   "metadata": {},
   "source": [
    "### Missing Stances and Referee"
   ]
  },
  {
   "cell_type": "markdown",
   "metadata": {},
   "source": [
    "Some of the matches feature fighters with missing stance information or missing referee information. Since this is a relatively small number of matches out of the whole dataset, we will drop these matches from our consideration."
   ]
  },
  {
   "cell_type": "code",
   "execution_count": null,
   "metadata": {},
   "outputs": [],
   "source": [
    "# Show number of matches in dataset before removing matches with missing stance information\n",
    "print('Number of matches prior to filtering: ' + str(len(df)))\n",
    "\n",
    "# Remove matches with missing stance information\n",
    "filter1 = df[df['B_Stance'].notnull()]\n",
    "filter2 = filter1[filter1['R_Stance'].notnull()]\n",
    "filter3 = filter2[filter2['Referee'].notnull()]\n",
    "df = filter3\n",
    "print('Number of matchs after filtering: ' + str(len(filter3)))"
   ]
  },
  {
   "cell_type": "markdown",
   "metadata": {},
   "source": [
    "### Missing Numerical Data"
   ]
  },
  {
   "cell_type": "markdown",
   "metadata": {},
   "source": [
    "Many of the rows contain missing numerical data in certain columns. We will fill in these columns with the median for that column.\n",
    "\n",
    "First we will find columns with missing numerical data to demonstrate that our imputation is successful."
   ]
  },
  {
   "cell_type": "code",
   "execution_count": null,
   "metadata": {},
   "outputs": [],
   "source": [
    "df.columns[df.isnull().any()]"
   ]
  },
  {
   "cell_type": "markdown",
   "metadata": {},
   "source": [
    "We select R_age for our demonstration. Now we find a few rows that have a missing R_age."
   ]
  },
  {
   "cell_type": "code",
   "execution_count": null,
   "metadata": {},
   "outputs": [],
   "source": [
    "people = df[df['R_age'].isnull()].head(5)\n",
    "people"
   ]
  },
  {
   "cell_type": "markdown",
   "metadata": {},
   "source": [
    "Now we find the median for that column."
   ]
  },
  {
   "cell_type": "code",
   "execution_count": null,
   "metadata": {},
   "outputs": [],
   "source": [
    "df['R_age'].median()"
   ]
  },
  {
   "cell_type": "markdown",
   "metadata": {},
   "source": [
    "Now we apply fillna to the entire dataset, and show that the column is filled in with the median."
   ]
  },
  {
   "cell_type": "code",
   "execution_count": null,
   "metadata": {},
   "outputs": [],
   "source": [
    "df = df.fillna(df.median())\n",
    "df.loc[people.index.tolist()]"
   ]
  },
  {
   "cell_type": "markdown",
   "metadata": {},
   "source": [
    "### Dimensionality Reduction-PCA ### "
   ]
  },
  {
   "cell_type": "markdown",
   "metadata": {},
   "source": [
    "We apply dimensionality reduction to obtain an ordered list of components that account for the largest variance in the data set in order to ultimately group similar fighters based on their fighting styles\n",
    "\n"
   ]
  },
  {
   "cell_type": "markdown",
   "metadata": {},
   "source": [
    "Firstly, we drop the non numeric columns"
   ]
  },
  {
   "cell_type": "markdown",
   "metadata": {},
   "source": [
    "# kNN "
   ]
  },
  {
   "cell_type": "code",
   "execution_count": null,
   "metadata": {},
   "outputs": [],
   "source": [
    "#dealing with only the B_fighter and successful attacks landed. Much smaller dataset. \n",
    "#reasoning: successful attacks tend are more significatn \n",
    "#attacks that were attempted showcase \"volume\" of that fight which vary match by match\n",
    "#whereas successfully landed shots showcase a fighter's accuracy/overall control of the match\n",
    "\n",
    "view = df[[\"B_fighter\", \"weight_class\", \"R_current_lose_streak\", \"B_current_win_streak\", \"B_draw\", \"B_avg_BODY_landed\",\n",
    "           \"B_avg_CLINCH_landed\", \"B_avg_DISTANCE_landed\", \"B_avg_GROUND_landed\", \"B_avg_HEAD_landed\", \"B_avg_KD\", \n",
    "           \"B_avg_LEG_landed\", \"B_avg_PASS\", \"B_avg_REV\", \"B_avg_SIG_STR_landed\", \"B_avg_SIG_STR_pct\", \"B_avg_SUB_ATT\", \n",
    "           \"B_avg_TD_landed\", \"B_avg_TD_pct\", \"B_avg_TOTAL_STR_landed\", \"B_longest_win_streak\", \"B_losses\", \n",
    "           \"B_avg_opp_BODY_landed\", \"B_avg_opp_CLINCH_landed\", \"B_avg_opp_DISTANCE_landed\", \"B_avg_opp_GROUND_landed\", \n",
    "           \"B_avg_opp_HEAD_landed\", \"B_avg_opp_KD\", \"B_avg_opp_LEG_landed\", \"B_avg_opp_PASS\", \"B_avg_opp_REV\", \n",
    "           \"B_avg_opp_SIG_STR_landed\", \"B_avg_opp_SIG_STR_pct\", \"B_avg_opp_TD_landed\", \"B_avg_opp_TD_pct\",\n",
    "           \"B_avg_opp_TOTAL_STR_landed\", \"B_total_title_bouts\", \"B_win_by_Decision_Majority\", \"B_win_by_Decision_Split\", \n",
    "           \"B_win_by_Decision_Unanimous\", \"B_win_by_KO/TKO\", \"B_win_by_Submission\", \"B_win_by_TKO_Doctor_Stoppage\", \n",
    "           \"B_wins\"]]\n",
    "\n",
    "\n",
    "\n",
    "#dropping duplicates\n",
    "newView = view.drop_duplicates(subset = \"B_fighter\", keep = \"first\")\n",
    "\n",
    "newView.head()"
   ]
  },
  {
   "cell_type": "code",
   "execution_count": null,
   "metadata": {},
   "outputs": [],
   "source": [
    "#changing the weight class from string to numeric: \n",
    "#incomplete because identified as \"women's\" and \"mens\"\n",
    "newView[\"weight_class\"].unique()\n",
    "\n",
    "# for i in newView[\"weight_class\"]:\n",
    "#     if i == \"Bantamweight\": \n",
    "#         df.loc[df['weight_class'] == i] = 135\n",
    "    \n",
    "# display(newView[\"weight_class\"])\n",
    "\n",
    "\n",
    "#as of right now, leaving as is. \n"
   ]
  },
  {
   "cell_type": "code",
   "execution_count": null,
   "metadata": {},
   "outputs": [],
   "source": [
    "newView[['B_fighter', \"B_wins\"]].loc[newView['B_fighter'] == \"Khabib Nurmagomedov\"]\n"
   ]
  },
  {
   "cell_type": "code",
   "execution_count": null,
   "metadata": {},
   "outputs": [],
   "source": [
    "from sklearn.neighbors import NearestNeighbors\n",
    "#later after reformatting weight_class to have the numerical numbers\n",
    "#we will add it in. for now, drop since string. \n",
    "stats = newView.drop(columns = [\"B_fighter\", \"R_current_lose_streak\", \"weight_class\"])"
   ]
  },
  {
   "cell_type": "code",
   "execution_count": null,
   "metadata": {},
   "outputs": [],
   "source": [
    "stats.head()"
   ]
  },
  {
   "cell_type": "code",
   "execution_count": null,
   "metadata": {},
   "outputs": [],
   "source": [
    "knn = NearestNeighbors(metric = \"cosine\", algorithm = \"brute\")\n",
    "knn.fit(x)"
   ]
  },
  {
   "cell_type": "code",
   "execution_count": 117,
   "metadata": {},
   "outputs": [
    {
     "data": {
      "text/plain": [
       "1662"
      ]
     },
     "execution_count": 117,
     "metadata": {},
     "output_type": "execute_result"
    }
   ],
   "source": [
    "fighter_indices = knn.kneighbors(x)[1]\n",
    "fighter_indices\n",
    "len(fighter_indices)"
   ]
  },
  {
   "cell_type": "code",
   "execution_count": null,
   "metadata": {},
   "outputs": [],
   "source": [
    "#finding similar recommendations for Amanda Nunes and Khabib Nurmagomedov "
   ]
  },
  {
   "cell_type": "code",
   "execution_count": null,
   "metadata": {},
   "outputs": [],
   "source": [
    "#I need to find the index in within the figher_indices which coorespond with Amanda Nunes\n",
    "#And then fight the recommended fighters. "
   ]
  },
  {
   "cell_type": "code",
   "execution_count": 1,
   "metadata": {
    "scrolled": true
   },
   "outputs": [
    {
     "ename": "NameError",
     "evalue": "name 'stats' is not defined",
     "output_type": "error",
     "traceback": [
      "\u001b[0;31m---------------------------------------------------------------------------\u001b[0m",
      "\u001b[0;31mNameError\u001b[0m                                 Traceback (most recent call last)",
      "\u001b[0;32m<ipython-input-1-150b48af695e>\u001b[0m in \u001b[0;36m<module>\u001b[0;34m\u001b[0m\n\u001b[1;32m      8\u001b[0m     \u001b[0;32mreturn\u001b[0m \u001b[0mfighters_as_df\u001b[0m\u001b[0;34m\u001b[0m\u001b[0;34m\u001b[0m\u001b[0m\n\u001b[1;32m      9\u001b[0m \u001b[0;34m\u001b[0m\u001b[0m\n\u001b[0;32m---> 10\u001b[0;31m \u001b[0mget_recommends\u001b[0m\u001b[0;34m(\u001b[0m\u001b[0;34m\"Amanda Nunes\"\u001b[0m\u001b[0;34m)\u001b[0m\u001b[0;34m\u001b[0m\u001b[0;34m\u001b[0m\u001b[0m\n\u001b[0m",
      "\u001b[0;32m<ipython-input-1-150b48af695e>\u001b[0m in \u001b[0;36mget_recommends\u001b[0;34m(fighter)\u001b[0m\n\u001b[1;32m      1\u001b[0m \u001b[0;32mdef\u001b[0m \u001b[0mget_recommends\u001b[0m\u001b[0;34m(\u001b[0m\u001b[0mfighter\u001b[0m\u001b[0;34m)\u001b[0m\u001b[0;34m:\u001b[0m\u001b[0;34m\u001b[0m\u001b[0;34m\u001b[0m\u001b[0m\n\u001b[0;32m----> 2\u001b[0;31m     \u001b[0mstats_rindex\u001b[0m \u001b[0;34m=\u001b[0m \u001b[0mstats\u001b[0m\u001b[0;34m.\u001b[0m\u001b[0mreset_index\u001b[0m\u001b[0;34m(\u001b[0m\u001b[0mdrop\u001b[0m\u001b[0;34m=\u001b[0m\u001b[0;32mTrue\u001b[0m\u001b[0;34m)\u001b[0m\u001b[0;34m\u001b[0m\u001b[0;34m\u001b[0m\u001b[0m\n\u001b[0m\u001b[1;32m      3\u001b[0m     \u001b[0mnewView_rindex\u001b[0m \u001b[0;34m=\u001b[0m \u001b[0mnewView\u001b[0m\u001b[0;34m.\u001b[0m\u001b[0mreset_index\u001b[0m\u001b[0;34m(\u001b[0m\u001b[0mdrop\u001b[0m\u001b[0;34m=\u001b[0m\u001b[0;32mTrue\u001b[0m\u001b[0;34m)\u001b[0m\u001b[0;34m\u001b[0m\u001b[0;34m\u001b[0m\u001b[0m\n\u001b[1;32m      4\u001b[0m     \u001b[0mdist\u001b[0m\u001b[0;34m,\u001b[0m \u001b[0mfighter_indices\u001b[0m \u001b[0;34m=\u001b[0m \u001b[0mknn\u001b[0m\u001b[0;34m.\u001b[0m\u001b[0mkneighbors\u001b[0m\u001b[0;34m(\u001b[0m\u001b[0mstats_rindex\u001b[0m\u001b[0;34m)\u001b[0m\u001b[0;34m\u001b[0m\u001b[0;34m\u001b[0m\u001b[0m\n\u001b[1;32m      5\u001b[0m     \u001b[0mfighters\u001b[0m \u001b[0;34m=\u001b[0m \u001b[0mfighter_indices\u001b[0m\u001b[0;34m[\u001b[0m\u001b[0mnewView_rindex\u001b[0m\u001b[0;34m.\u001b[0m\u001b[0mloc\u001b[0m\u001b[0;34m[\u001b[0m\u001b[0mnewView_rindex\u001b[0m\u001b[0;34m[\u001b[0m\u001b[0;34m'B_fighter'\u001b[0m\u001b[0;34m]\u001b[0m \u001b[0;34m==\u001b[0m \u001b[0mfighter\u001b[0m\u001b[0;34m]\u001b[0m\u001b[0;34m.\u001b[0m\u001b[0mindex\u001b[0m\u001b[0;34m]\u001b[0m\u001b[0;34m.\u001b[0m\u001b[0mtolist\u001b[0m\u001b[0;34m(\u001b[0m\u001b[0;34m)\u001b[0m\u001b[0;34m[\u001b[0m\u001b[0;36m0\u001b[0m\u001b[0;34m]\u001b[0m\u001b[0;34m\u001b[0m\u001b[0;34m\u001b[0m\u001b[0m\n",
      "\u001b[0;31mNameError\u001b[0m: name 'stats' is not defined"
     ]
    }
   ],
   "source": [
    "def get_recommends(fighter):\n",
    "    stats_rindex = stats.reset_index(drop=True)\n",
    "    newView_rindex = newView.reset_index(drop=True)\n",
    "    dist, fighter_indices = knn.kneighbors(stats_rindex)\n",
    "    fighters = fighter_indices[newView_rindex.loc[newView_rindex['B_fighter'] == fighter].index].tolist()[0]\n",
    "    fighters_as_df = newView_rindex[newView_rindex.index.isin(fighters)]\n",
    "    fighters_as_df = fighters_as_df[fighters_as_df['B_fighter'] != fighter]\n",
    "    return fighters_as_df\n",
    "\n",
    "get_recommends(\"Amanda Nunes\")"
   ]
  },
  {
   "cell_type": "code",
   "execution_count": null,
   "metadata": {},
   "outputs": [],
   "source": []
  },
  {
   "cell_type": "code",
   "execution_count": null,
   "metadata": {},
   "outputs": [],
   "source": []
  },
  {
   "cell_type": "code",
   "execution_count": null,
   "metadata": {},
   "outputs": [],
   "source": []
  }
 ],
 "metadata": {
  "kernelspec": {
   "display_name": "Python 3",
   "language": "python",
   "name": "python3"
  }
 },
 "nbformat": 4,
 "nbformat_minor": 2
}
