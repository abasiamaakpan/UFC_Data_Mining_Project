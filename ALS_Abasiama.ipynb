{
 "cells": [
  {
   "cell_type": "markdown",
   "metadata": {},
   "source": [
    "## Alternative Least Squares "
   ]
  },
  {
   "cell_type": "markdown",
   "metadata": {},
   "source": [
    "The above method is used here to find similar fighters to a particular fighter based on a paritcular feature (in this case I chose avg takedown percentages). This method will also be used to recommend fighters based on that same feature. Blue corner fighters were used here (B_fighters). However, red corner fighters(R_fighters) can also be used in this method  "
   ]
  },
  {
   "cell_type": "code",
   "execution_count": 14,
   "metadata": {},
   "outputs": [],
   "source": [
    "import sys\n",
    "import pandas as pd\n",
    "import numpy as np\n",
    "import scipy.sparse as sparse\n",
    "from scipy.sparse.linalg import spsolve\n",
    "import random\n",
    "from sklearn.preprocessing import MinMaxScaler\n",
    "import implicit\n",
    "\n",
    "#load dataset. Blue corner fighters (B_fighter) is used here but is also applicable to fighters in the red corner as well (\"R_fighters\")\n",
    "raw_data = pd.read_csv('finalView.csv')\n",
    "\n",
    "# Drop NaN columns\n",
    "data_new = raw_data.dropna()\n",
    "data_new= data_new.copy()\n",
    "\n",
    "#Convert fighter name and weight class to a category dtype  \n",
    "data_new['weight_class_name'] = data_new[\"weight_class\"].astype(\"category\").cat.codes\n",
    "data_new['B_fighter_name'] = data_new[\"B_fighter\"].astype(\"category\").cat.codes\n",
    "\n",
    "##Enter fighter feature for recommendation. In this case i chose takedown percentages\n",
    "fighter_feature=data_new[\"B_avg_TD_pct\"]\n",
    "\n",
    "#createing two matrices, one for finding similar fighters and one for best fighter recommendations in each weight_class\n",
    "sparse_item_weight_class_name = sparse.csr_matrix((fighter_feature.astype(float), (data_new['B_fighter_name'], data_new['weight_class_name'])))\n",
    "sparse_item_B_fighter_name = sparse.csr_matrix((fighter_feature.astype(float), (data_new['weight_class_name'], data_new['B_fighter_name'])))"
   ]
  },
  {
   "cell_type": "code",
   "execution_count": 15,
   "metadata": {},
   "outputs": [
    {
     "data": {
      "application/vnd.jupyter.widget-view+json": {
       "model_id": "adf6149b3f43408885e5ef3e1d4873ec",
       "version_major": 2,
       "version_minor": 0
      },
      "text/plain": [
       "HBox(children=(IntProgress(value=0, max=20), HTML(value='')))"
      ]
     },
     "metadata": {},
     "output_type": "display_data"
    },
    {
     "name": "stdout",
     "output_type": "stream",
     "text": [
      "\n"
     ]
    }
   ],
   "source": [
    "# Initialize the als model and fit it using the sparse item feature-fighter matrix\n",
    "model = implicit.als.AlternatingLeastSquares(factors=20, regularization=0.1, iterations=20)\n",
    "alpha_val = 40\n",
    "\n",
    "# Calculate the data confidence by multiplying it by our alpha value.\n",
    "data_conf = (sparse_item_weight_class_name * alpha_val).astype('double')\n",
    "\n",
    "#Fit the model\n",
    "model.fit(data_conf)"
   ]
  },
  {
   "cell_type": "code",
   "execution_count": 16,
   "metadata": {},
   "outputs": [],
   "source": [
    "##get similar fighters based on the particular feature set above\n",
    "def get_similar_fighters(fighter_name):\n",
    "    #convert fighter name to index\n",
    "    list1=data_new.index[data_new['B_fighter'] == fighter_name].tolist()\n",
    "    fighter_id = list1[0] \n",
    "    n_similar = 10\n",
    "    \n",
    "    # Use implicit to get similar fighters.\n",
    "    similar = model.similar_items(fighter_id, n_similar)\n",
    "    #Show names of similar fighters\n",
    "    for item in similar:\n",
    "        idx, score = item\n",
    "        print (data_new.B_fighter.loc[data_new.B_fighter_name == idx].iloc[0])"
   ]
  },
  {
   "cell_type": "code",
   "execution_count": 17,
   "metadata": {},
   "outputs": [
    {
     "name": "stdout",
     "output_type": "stream",
     "text": [
      "Forrest Petz\n",
      "Max Griffin\n",
      "Chad Laprise\n",
      "Chris Brennan\n",
      "John Howard\n",
      "Yoshiyuki Yoshida\n",
      "Carlo Pedersoli\n",
      "Kyle Noke\n",
      "Luigi Vendramini\n",
      "Josh Haynes\n"
     ]
    }
   ],
   "source": [
    "get_similar_fighters(\"Tony Ferguson\")"
   ]
  },
  {
   "cell_type": "code",
   "execution_count": 18,
   "metadata": {},
   "outputs": [
    {
     "name": "stdout",
     "output_type": "stream",
     "text": [
      "Valerie Letourneau\n",
      "Juliana Lima\n",
      "Polyana Viana\n",
      "Claudia Gadelha\n",
      "Michelle Waterson\n",
      "Ashley Yoder\n",
      "Cynthia Calvillo\n",
      "Mackenzie Dern\n",
      "Viviane Pereira\n",
      "Felice Herrig\n"
     ]
    }
   ],
   "source": [
    "get_similar_fighters(\"Amanda Nunes\")"
   ]
  },
  {
   "cell_type": "code",
   "execution_count": 19,
   "metadata": {},
   "outputs": [],
   "source": [
    "#Get best fighter recommendations based on selected feature above\n",
    "def best_fighter_recommendations(weight_class_iter, sparse_fighter_content, fighter_vecs, weight_class_vecs, num_contents=10):\n",
    "    \n",
    "    # Get the array scores from the sparse weight class matrix\n",
    "    fighter_array = sparse_item_B_fighter_name[weight_class_id,:].toarray()\n",
    "    # Gives a new shape to an array without changing its data.\n",
    "    fighter_array= fighter_array.reshape(-1) + 1\n",
    "    \n",
    "    # Mark visited items in array to 0\n",
    "    fighter_array[fighter_array > 1] = 0\n",
    "    \n",
    "    # Get dot product of fighter vector and all weight class vectors\n",
    "    recommendation_vector = fighter_vecs[weight_class_id,:].dot(weight_class_vecs.T).toarray()\n",
    "    \n",
    "    # Scale this recommendation vector between 0 and 1\n",
    "    min_max = MinMaxScaler()\n",
    "    recommendation_vector_scaled = min_max.fit_transform(recommendation_vector.reshape(-1,1))[:,0]\n",
    "    # Scaling already visted items in array\n",
    "    recommendation_vector_final = fighter_array * recommendation_vector_scaled\n",
    "    # Sort the indices of the weight class into order of best recommendations\n",
    "    weight_class_iter = np.argsort(recommendation_vector_final)[::-1][:num_contents]\n",
    "    \n",
    "    #Empty list to store fighters and scores\n",
    "    fighters = []\n",
    "    scores = []\n",
    "\n",
    "    for iter in weight_class_iter:\n",
    "        # Append fighters and scores to the list\n",
    "        fighters.append(data_new.B_fighter.loc[data_new.B_fighter_name == iter].iloc[0])\n",
    "        scores.append(recommendation_vector_final[iter])\n",
    "\n",
    "    recommendations = pd.DataFrame({'Fighter': fighters, 'score': scores})\n",
    "\n",
    "    return recommendations\n",
    "\n"
   ]
  },
  {
   "cell_type": "code",
   "execution_count": 20,
   "metadata": {},
   "outputs": [
    {
     "name": "stdout",
     "output_type": "stream",
     "text": [
      "            Fighter     score\n",
      "0     Ricardo Ramos  0.041794\n",
      "1   Jason Reinhardt  0.030534\n",
      "2       Jeff Curran  0.029447\n",
      "3   Chris Gutierrez  0.027753\n",
      "4    Thomas Almeida  0.027238\n",
      "5  Byron Bloodworth  0.025316\n",
      "6   Marcos Vinicius  0.023834\n",
      "7      Walel Watson  0.021394\n",
      "8      Damacio Page  0.020690\n",
      "9        Nick Denis  0.020363\n"
     ]
    }
   ],
   "source": [
    "# Get the fighter and weight class vectors converting them to csr matrices\n",
    "fighter_vecs = sparse.csr_matrix(model.user_factors)\n",
    "weight_class_vecs = sparse.csr_matrix(model.item_factors)\n",
    "\n",
    "# Create best recommendations based on feature selected above. Set to 0 for best recommendations \n",
    "weight_class_id = 0\n",
    "\n",
    "#Get recommendations\n",
    "recommendations = best_fighter_recommendations(weight_class_id, sparse_item_B_fighter_name, fighter_vecs, weight_class_vecs)\n",
    "\n",
    "print(recommendations)"
   ]
  },
  {
   "cell_type": "code",
   "execution_count": null,
   "metadata": {},
   "outputs": [],
   "source": [
    "A=np.log2(recommendations)"
   ]
  },
  {
   "cell_type": "markdown",
   "metadata": {},
   "source": [
    "References\n",
    "\n",
    "https://medium.com/radon-dev/als-implicit-collaborative-filtering-5ed653ba39fe\n",
    "\n",
    "https://towardsdatascience.com/building-a-collaborative-filtering-recommender-system-with-clickstream-data-dffc86c8c65"
   ]
  },
  {
   "cell_type": "code",
   "execution_count": null,
   "metadata": {},
   "outputs": [],
   "source": []
  }
 ],
 "metadata": {
  "kernelspec": {
   "display_name": "Python 3",
   "language": "python",
   "name": "python3"
  },
  "language_info": {
   "codemirror_mode": {
    "name": "ipython",
    "version": 3
   },
   "file_extension": ".py",
   "mimetype": "text/x-python",
   "name": "python",
   "nbconvert_exporter": "python",
   "pygments_lexer": "ipython3",
   "version": "3.7.4"
  }
 },
 "nbformat": 4,
 "nbformat_minor": 2
}
