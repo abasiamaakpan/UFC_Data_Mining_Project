{
 "cells": [
  {
   "cell_type": "markdown",
   "metadata": {},
   "source": [
    "# Loading the Data"
   ]
  },
  {
   "cell_type": "code",
   "execution_count": 1,
   "metadata": {},
   "outputs": [
    {
     "ename": "FileNotFoundError",
     "evalue": "[Errno 2] No such file or directory: '../dataFrames'",
     "output_type": "error",
     "traceback": [
      "\u001b[0;31m---------------------------------------------------------------------------\u001b[0m",
      "\u001b[0;31mFileNotFoundError\u001b[0m                         Traceback (most recent call last)",
      "\u001b[0;32m<ipython-input-1-3d48897dcd9e>\u001b[0m in \u001b[0;36m<module>\u001b[0;34m\u001b[0m\n\u001b[1;32m      9\u001b[0m \u001b[0;32mfrom\u001b[0m \u001b[0mmpl_toolkits\u001b[0m\u001b[0;34m.\u001b[0m\u001b[0mmplot3d\u001b[0m \u001b[0;32mimport\u001b[0m \u001b[0mAxes3D\u001b[0m\u001b[0;34m\u001b[0m\u001b[0;34m\u001b[0m\u001b[0m\n\u001b[1;32m     10\u001b[0m \u001b[0;32mfrom\u001b[0m \u001b[0msklearn\u001b[0m\u001b[0;34m.\u001b[0m\u001b[0mmetrics\u001b[0m \u001b[0;32mimport\u001b[0m \u001b[0mmean_squared_error\u001b[0m\u001b[0;34m,\u001b[0m \u001b[0mr2_score\u001b[0m\u001b[0;34m\u001b[0m\u001b[0;34m\u001b[0m\u001b[0m\n\u001b[0;32m---> 11\u001b[0;31m \u001b[0mos\u001b[0m\u001b[0;34m.\u001b[0m\u001b[0mchdir\u001b[0m\u001b[0;34m(\u001b[0m\u001b[0;34m\"../dataFrames\"\u001b[0m\u001b[0;34m)\u001b[0m\u001b[0;34m\u001b[0m\u001b[0;34m\u001b[0m\u001b[0m\n\u001b[0m\u001b[1;32m     12\u001b[0m \u001b[0mfinalView\u001b[0m \u001b[0;34m=\u001b[0m \u001b[0mpd\u001b[0m\u001b[0;34m.\u001b[0m\u001b[0mread_csv\u001b[0m\u001b[0;34m(\u001b[0m\u001b[0;34m'finalView.csv'\u001b[0m\u001b[0;34m,\u001b[0m  \u001b[0mindex_col\u001b[0m\u001b[0;34m=\u001b[0m\u001b[0;36m0\u001b[0m\u001b[0;34m)\u001b[0m\u001b[0;34m\u001b[0m\u001b[0;34m\u001b[0m\u001b[0m\n\u001b[1;32m     13\u001b[0m \u001b[0mredStats\u001b[0m \u001b[0;34m=\u001b[0m \u001b[0mpd\u001b[0m\u001b[0;34m.\u001b[0m\u001b[0mread_csv\u001b[0m\u001b[0;34m(\u001b[0m\u001b[0;34m\"redStats.csv\"\u001b[0m\u001b[0;34m,\u001b[0m \u001b[0mindex_col\u001b[0m \u001b[0;34m=\u001b[0m \u001b[0;36m0\u001b[0m\u001b[0;34m)\u001b[0m\u001b[0;34m\u001b[0m\u001b[0;34m\u001b[0m\u001b[0m\n",
      "\u001b[0;31mFileNotFoundError\u001b[0m: [Errno 2] No such file or directory: '../dataFrames'"
     ]
    }
   ],
   "source": [
    "import pandas as pd\n",
    "import numpy as np\n",
    "import os\n",
    "import matplotlib.pyplot as plt\n",
    "from sklearn.model_selection import train_test_split\n",
    "from sklearn.linear_model import LinearRegression \n",
    "from sklearn import datasets, linear_model\n",
    "import numpy as np\n",
    "from mpl_toolkits.mplot3d import Axes3D\n",
    "from sklearn.metrics import mean_squared_error, r2_score\n",
    "os.chdir(\"../dataFrames\")\n",
    "finalView = pd.read_csv('finalView.csv',  index_col=0)\n",
    "redStats = pd.read_csv(\"redStats.csv\", index_col = 0)\n",
    "blueStats = pd.read_csv(\"blueStats.csv\", index_col =0)\n",
    "red = pd.read_csv(\"red.csv\", index_col =0)\n"
   ]
  },
  {
   "cell_type": "code",
   "execution_count": null,
   "metadata": {},
   "outputs": [],
   "source": [
    "finalView.head()"
   ]
  },
  {
   "cell_type": "markdown",
   "metadata": {},
   "source": [
    "# Linear Regression"
   ]
  },
  {
   "cell_type": "markdown",
   "metadata": {},
   "source": [
    "Training against the data, the prediction in this data set's case would be the winner's win-streak. Splitting the dataset between the blue winner and the red winner to see their stats would be beneficial to see how opposing sides perform (and whether or not the corner assigned details any relevant information).  Initially, it looks at just the win streak for the fighter and their ability to knockout an opponent. This gives us a comparison to initially see. Then, the statistics, to optimize run time, will be displayed as averages overall. "
   ]
  },
  {
   "cell_type": "code",
   "execution_count": null,
   "metadata": {},
   "outputs": [],
   "source": [
    "red"
   ]
  },
  {
   "cell_type": "code",
   "execution_count": null,
   "metadata": {
    "scrolled": true
   },
   "outputs": [],
   "source": [
    "red.head()\n"
   ]
  },
  {
   "cell_type": "code",
   "execution_count": null,
   "metadata": {},
   "outputs": [],
   "source": [
    "red.drop([\"Referee\", \"date\", \"location\", \"Winner\", \"title_bout\", \"weight_class\"], axis = 1, inplace=True)"
   ]
  },
  {
   "cell_type": "code",
   "execution_count": null,
   "metadata": {},
   "outputs": [],
   "source": [
    "red"
   ]
  },
  {
   "cell_type": "markdown",
   "metadata": {},
   "source": [
    "Just looking at TKOs"
   ]
  },
  {
   "cell_type": "code",
   "execution_count": null,
   "metadata": {},
   "outputs": [],
   "source": [
    "#For the red fighters. "
   ]
  },
  {
   "cell_type": "code",
   "execution_count": null,
   "metadata": {},
   "outputs": [],
   "source": [
    "def split_fighter_datasets(predictor, target,viewName):\n",
    "\n",
    "    #Split arrays or matrices into random train and test subsets\n",
    "    X = viewName[predictor]\n",
    "    y = viewName[target]\n",
    "    fighter_X_train, fighter_X_test, fighter_y_train, fighter_y_test = train_test_split(X, y, test_size = 0.6, random_state=42)\n",
    "    return fighter_X_train, fighter_X_test, fighter_y_train, fighter_y_test"
   ]
  },
  {
   "cell_type": "markdown",
   "metadata": {},
   "source": [
    "Training the data"
   ]
  },
  {
   "cell_type": "code",
   "execution_count": null,
   "metadata": {},
   "outputs": [],
   "source": [
    "predictor=['R_win_by_KO/TKO']\n",
    "target='R_wins'\n",
    "fighter_X_train,fighter_X_test,fighter_y_train,fighter_y_test=split_fighter_datasets(predictor,target,red)\n",
    "regr = linear_model.LinearRegression()"
   ]
  },
  {
   "cell_type": "code",
   "execution_count": null,
   "metadata": {},
   "outputs": [],
   "source": [
    "def calculate_and_plot_fighter_linear_regression(regr, fighter_X_train, fighter_X_test, fighter_y_train, fighter_y_test):\n",
    "    # Train the model using the training sets\n",
    "    regr.fit(fighter_X_train,fighter_y_train)\n",
    "    # The coefficients\n",
    "    print('Coefficients: \\n', regr.coef_)\n",
    "    # The mean squared error\n",
    "    print('Mean squared error: %.2f'\n",
    "          % mean_squared_error(fighter_y_test, regr.predict(fighter_X_test)))\n",
    "    # The coefficient of determination: 1 is perfect prediction\n",
    "    print('Coefficient of determination: %.2f' % r2_score(fighter_y_test, regr.predict(fighter_X_test)))\n",
    "\n",
    "    print ('Variance Score: %.2f' % regr.score(fighter_X_test, fighter_y_test))\n",
    "\n",
    "    # Plot outputs\n",
    "    plt.scatter(fighter_X_test, fighter_y_test,  color='black')\n",
    "    plt.plot(fighter_X_test, regr.predict(fighter_X_test), color='blue', linewidth=3)\n",
    "    plt.xlabel(predictor[0])\n",
    "    plt.ylabel(target)\n",
    "    plt.title(target + \" vs \" + predictor[0], fontsize=15, fontweight='bold')\n",
    "\n",
    "    plt.show()\n",
    "calculate_and_plot_fighter_linear_regression(regr, fighter_X_train, fighter_X_test, fighter_y_train, fighter_y_test)"
   ]
  },
  {
   "cell_type": "code",
   "execution_count": null,
   "metadata": {},
   "outputs": [],
   "source": [
    "#looking at the Blue fighters TKO's. \n",
    "blueStats"
   ]
  },
  {
   "cell_type": "code",
   "execution_count": null,
   "metadata": {},
   "outputs": [],
   "source": [
    "predictor=['B_win_by_KO/TKO']\n",
    "target='B_wins'\n",
    "fighter_X_train,fighter_X_test,fighter_y_train,fighter_y_test=split_fighter_datasets(predictor,target,blueStats)"
   ]
  },
  {
   "cell_type": "code",
   "execution_count": null,
   "metadata": {},
   "outputs": [],
   "source": [
    "def calculate_and_plot_fighter_linear_regression(regr, fighter_X_train, fighter_X_test, fighter_y_train, fighter_y_test):\n",
    "    # Train the model using the training sets\n",
    "    regr.fit(fighter_X_train,fighter_y_train)\n",
    "    # The coefficients\n",
    "    print('Coefficients: \\n', regr.coef_)\n",
    "    # The mean squared error\n",
    "    print('Mean squared error: %.2f'\n",
    "          % mean_squared_error(fighter_y_test, regr.predict(fighter_X_test)))\n",
    "    # The coefficient of determination: 1 is perfect prediction\n",
    "    print('Coefficient of determination: %.2f' % r2_score(fighter_y_test, regr.predict(fighter_X_test)))\n",
    "\n",
    "    print ('Variance Score: %.2f' % regr.score(fighter_X_test, fighter_y_test))\n",
    "\n",
    "    # Plot outputs\n",
    "    plt.scatter(fighter_X_test, fighter_y_test,  color='black')\n",
    "    plt.plot(fighter_X_test, regr.predict(fighter_X_test), color='blue', linewidth=3)\n",
    "    plt.xlabel(predictor[0])\n",
    "    plt.ylabel(target)\n",
    "    plt.title(target + \" vs \" + predictor[0], fontsize=15, fontweight='bold')\n",
    "\n",
    "    plt.show()\n",
    "calculate_and_plot_fighter_linear_regression(regr, fighter_X_train, fighter_X_test, fighter_y_train, fighter_y_test)"
   ]
  },
  {
   "cell_type": "markdown",
   "metadata": {},
   "source": [
    "# Computing Averages..."
   ]
  },
  {
   "cell_type": "code",
   "execution_count": null,
   "metadata": {},
   "outputs": [],
   "source": [
    "def pairwise_metrics(viewColor, stringTarget):\n",
    "#    Updates a dictionary with its metrics for  the pairwise features in the dataset. \n",
    "#    And to produce a pair of features most similar to each other\n",
    "#    Which would be beneficial in determining fighter's similarity. \n",
    "#     Args:\n",
    "#       viewColor, the view you wish to use\n",
    "#       stringTarget the target value you wish to use \n",
    "\n",
    "    \n",
    "    i = 1\n",
    "\n",
    "    # Divide columns into features and class.\n",
    "    features = list(viewColor.columns)\n",
    "    #classes = features[-1] # create class column\n",
    "    #del features[-1] # delete class column from feature vector\n",
    "    colorsDictionary = {\"Coefficients\": None, \"Mean Squared Error\": None, \"Coefficient of determination\": None, \"Variance Score\": None}\n",
    "    listCoef = []\n",
    "    listMSE = []\n",
    "    listCoefOfDetermination = []\n",
    "    listVariance = []\n",
    "\n",
    "    # Generate an nxn subplot figure, where n is the number of features.\n",
    "#     figure = pl.figure(figsize=(5*(len(viewColor.columns)-1), 4*(len(viewColor.columns)-1)))\n",
    "    for col1 in viewColor[features]:\n",
    "        for col2 in viewColor[features]:\n",
    "                target = str(stringTarget) \n",
    "                #Split arrays or matrices into random train and test subsets\n",
    "                fighter_X_train, fighter_X_test, fighter_y_train, fighter_y_test = split_fighter_datasets(col1, target,viewColor)\n",
    "                \n",
    "                #Gives a new shape to an array without changing its data.\n",
    "                fighter_X_train = fighter_X_train.values.reshape(-1, 1)\n",
    "                fighter_y_train = fighter_y_train.values.reshape(-1, 1)\n",
    "                fighter_X_test = fighter_X_test.values.reshape(-1, 1)\n",
    "                fighter_y_test = fighter_y_test.values.reshape(-1, 1)\n",
    "                # Create linear regression object\n",
    "                reg = linear_model.LinearRegression()\n",
    "                # Train the model using the training sets\n",
    "                \n",
    "                reg.fit(fighter_X_train,fighter_y_train)\n",
    "                # The coefficients\n",
    "\n",
    "                listCoef.append(reg.coef_)\n",
    "                # The mean squared error\n",
    "                \n",
    "                listMSE.append(mean_squared_error(fighter_y_test, reg.predict(fighter_X_test)))\n",
    "\n",
    "                # The coefficient of determination: 1 is perfect prediction\n",
    "                listCoefOfDetermination.append( r2_score(fighter_y_test, reg.predict(fighter_X_test)))\n",
    "                \n",
    "                #The variance score\n",
    "                listVariance.append(reg.score(fighter_X_test, fighter_y_test))\n",
    "                \n",
    "    return listCoef,listMSE, listCoefOfDetermination, listVariance\n",
    "                "
   ]
  },
  {
   "cell_type": "code",
   "execution_count": null,
   "metadata": {},
   "outputs": [],
   "source": []
  },
  {
   "cell_type": "code",
   "execution_count": null,
   "metadata": {},
   "outputs": [],
   "source": [
    "def listAverages (listCoef, listMSE, listCoefOfDetermination, listVariance):\n",
    "    dictionary = {\"Coefficients\": None, \"Mean Squared Error\": None, \"Coefficient of determination\": None, \"Variance Score\": None}\n",
    "    counter1 = 0\n",
    "    sum1 = 0\n",
    "    sum2 = 0\n",
    "    sum3 = 0\n",
    "    sum4 = 0 \n",
    "    for i in listCoef: \n",
    "        sum1+=i \n",
    "        counter1+=1\n",
    "    for j in listMSE: \n",
    "        sum2+=j \n",
    "    for k in listCoefOfDetermination: \n",
    "        sum3+=i \n",
    "    for alpha in listVariance: \n",
    "        sum4+=alpha\n",
    "    \n",
    "    dictionary.update({\"Coefficients\": sum1/counter1})\n",
    "    dictionary.update({\"Mean Squared Error\": sum2/counter1})\n",
    "    dictionary.update({\"Coefficient of determination\": sum3/counter1})\n",
    "    dictionary.update({\"Variance Score\": sum4/counter1})\n",
    "\n",
    "    \n",
    "    return dictionary\n",
    "    "
   ]
  },
  {
   "cell_type": "code",
   "execution_count": null,
   "metadata": {},
   "outputs": [],
   "source": [
    "#For the Blue Fighters"
   ]
  },
  {
   "cell_type": "code",
   "execution_count": null,
   "metadata": {},
   "outputs": [],
   "source": [
    "blueCoef, blueMSE, blueCoefOfDetermination, blueVariance = pairwise_metrics(blueStats, \"B_wins\" )"
   ]
  },
  {
   "cell_type": "code",
   "execution_count": null,
   "metadata": {},
   "outputs": [],
   "source": [
    "blueAverages = listAverages(blueCoef, blueMSE, blueCoefOfDetermination, blueVariance)"
   ]
  },
  {
   "cell_type": "code",
   "execution_count": null,
   "metadata": {},
   "outputs": [],
   "source": [
    "blueAverages"
   ]
  },
  {
   "cell_type": "code",
   "execution_count": null,
   "metadata": {},
   "outputs": [],
   "source": [
    "blueMetrics = pd.DataFrame([blueAverages], columns=blueAverages.keys())\n"
   ]
  },
  {
   "cell_type": "code",
   "execution_count": null,
   "metadata": {},
   "outputs": [],
   "source": [
    "blueMetrics"
   ]
  },
  {
   "cell_type": "code",
   "execution_count": null,
   "metadata": {},
   "outputs": [],
   "source": [
    "#For the Red Fighters"
   ]
  },
  {
   "cell_type": "code",
   "execution_count": null,
   "metadata": {},
   "outputs": [],
   "source": [
    "redStats.drop([\"Referee\"], axis =1, inplace=True)"
   ]
  },
  {
   "cell_type": "code",
   "execution_count": null,
   "metadata": {},
   "outputs": [],
   "source": [
    "redStats.drop([\"R_Stance\"], axis =1, inplace=True)"
   ]
  },
  {
   "cell_type": "code",
   "execution_count": null,
   "metadata": {},
   "outputs": [],
   "source": [
    "redCoef, redMSE, redCoefOfDetermination, redVariance = pairwise_metrics(redStats, \"R_wins\")"
   ]
  },
  {
   "cell_type": "code",
   "execution_count": null,
   "metadata": {},
   "outputs": [],
   "source": [
    "redAverages = listAverages(redCoef, redMSE, redCoefOfDetermination, redVariance)"
   ]
  },
  {
   "cell_type": "code",
   "execution_count": null,
   "metadata": {},
   "outputs": [],
   "source": [
    "redMetrics = pd.DataFrame([redAverages], columns=redAverages.keys())\n"
   ]
  },
  {
   "cell_type": "code",
   "execution_count": null,
   "metadata": {},
   "outputs": [],
   "source": [
    "redMetrics"
   ]
  },
  {
   "cell_type": "markdown",
   "metadata": {},
   "source": [
    "# Determining the best fit pair of features"
   ]
  },
  {
   "cell_type": "code",
   "execution_count": null,
   "metadata": {},
   "outputs": [],
   "source": []
  },
  {
   "cell_type": "code",
   "execution_count": null,
   "metadata": {},
   "outputs": [],
   "source": []
  },
  {
   "cell_type": "code",
   "execution_count": null,
   "metadata": {},
   "outputs": [],
   "source": []
  },
  {
   "cell_type": "code",
   "execution_count": null,
   "metadata": {},
   "outputs": [],
   "source": []
  },
  {
   "cell_type": "code",
   "execution_count": null,
   "metadata": {},
   "outputs": [],
   "source": []
  },
  {
   "cell_type": "code",
   "execution_count": null,
   "metadata": {},
   "outputs": [],
   "source": []
  },
  {
   "cell_type": "code",
   "execution_count": null,
   "metadata": {},
   "outputs": [],
   "source": []
  },
  {
   "cell_type": "code",
   "execution_count": null,
   "metadata": {},
   "outputs": [],
   "source": []
  },
  {
   "cell_type": "code",
   "execution_count": null,
   "metadata": {},
   "outputs": [],
   "source": [
    "predictor=['B_total_rounds_fought'] \n",
    "target='B_wins'\n",
    "fighter_X_train,fighter_X_test,fighter_y_train,fighter_y_test=split_fighter_datasets(predictor,target,blueStats)"
   ]
  },
  {
   "cell_type": "code",
   "execution_count": null,
   "metadata": {},
   "outputs": [],
   "source": [
    "calculate_and_plot_fighter_linear_regression(regr, fighter_X_train, fighter_X_test, fighter_y_train, fighter_y_test)"
   ]
  },
  {
   "cell_type": "code",
   "execution_count": null,
   "metadata": {},
   "outputs": [],
   "source": [
    "predictor=['B_longest_win_streak'] \n",
    "target='B_wins'\n",
    "fighter_X_train,fighter_X_test,fighter_y_train,fighter_y_test=split_fighter_datasets(predictor,target,blueStats)"
   ]
  },
  {
   "cell_type": "code",
   "execution_count": null,
   "metadata": {},
   "outputs": [],
   "source": [
    "calculate_and_plot_fighter_linear_regression(regr, fighter_X_train, fighter_X_test, fighter_y_train, fighter_y_test)"
   ]
  },
  {
   "cell_type": "code",
   "execution_count": null,
   "metadata": {},
   "outputs": [],
   "source": [
    "predictor=['B_avg_KD'] \n",
    "target='B_wins'\n",
    "fighter_X_train,fighter_X_test,fighter_y_train,fighter_y_test=split_fighter_datasets(predictor,target,blueStats)"
   ]
  },
  {
   "cell_type": "code",
   "execution_count": null,
   "metadata": {},
   "outputs": [],
   "source": [
    "calculate_and_plot_fighter_linear_regression(regr, fighter_X_train, fighter_X_test, fighter_y_train, fighter_y_test)"
   ]
  },
  {
   "cell_type": "code",
   "execution_count": null,
   "metadata": {},
   "outputs": [],
   "source": [
    "predictor=['B_total_time_fought(seconds)'] \n",
    "target='B_age'\n",
    "fighter_X_train,fighter_X_test,fighter_y_train,fighter_y_test=split_fighter_datasets(predictor,target,blueStats)"
   ]
  },
  {
   "cell_type": "code",
   "execution_count": null,
   "metadata": {},
   "outputs": [],
   "source": [
    "calculate_and_plot_fighter_linear_regression(regr, fighter_X_train, fighter_X_test, fighter_y_train, fighter_y_test)"
   ]
  },
  {
   "cell_type": "code",
   "execution_count": null,
   "metadata": {},
   "outputs": [],
   "source": [
    "predictor=['B_Height_cms'] \n",
    "target='B_wins'\n",
    "fighter_X_train,fighter_X_test,fighter_y_train,fighter_y_test=split_fighter_datasets(predictor,target,blueStats)"
   ]
  },
  {
   "cell_type": "code",
   "execution_count": null,
   "metadata": {},
   "outputs": [],
   "source": [
    "calculate_and_plot_fighter_linear_regression(regr, fighter_X_train, fighter_X_test, fighter_y_train, fighter_y_test)"
   ]
  },
  {
   "cell_type": "code",
   "execution_count": null,
   "metadata": {},
   "outputs": [],
   "source": [
    "predictor=['B_Weight_lbs'] \n",
    "target='B_wins'\n",
    "fighter_X_train,fighter_X_test,fighter_y_train,fighter_y_test=split_fighter_datasets(predictor,target,blueStats)"
   ]
  },
  {
   "cell_type": "code",
   "execution_count": 262,
   "metadata": {},
   "outputs": [
    {
     "name": "stdout",
     "output_type": "stream",
     "text": [
      "Coefficients: \n",
      " [0.00276127]\n",
      "Mean squared error: 11.14\n",
      "Coefficient of determination: -0.00\n",
      "Variance Score: -0.00\n"
     ]
    },
    {
     "data": {
      "image/png": "[encoded data removed]",
      "text/plain": [
       "<Figure size 432x288 with 1 Axes>"
      ]
     },
     "metadata": {
      "needs_background": "light"
     },
     "output_type": "display_data"
    }
   ],
   "source": [
    "\n",
    "calculate_and_plot_fighter_linear_regression(regr, fighter_X_train, fighter_X_test, fighter_y_train, fighter_y_test)"
   ]
  },
  {
   "cell_type": "code",
   "execution_count": null,
   "metadata": {},
   "outputs": [],
   "source": []
  }
 ],
 "metadata": {
  "kernelspec": {
   "display_name": "Python 3",
   "language": "python",
   "name": "python3"
  },
  "language_info": {
   "codemirror_mode": {
    "name": "ipython",
    "version": 3
   },
   "file_extension": ".py",
   "mimetype": "text/x-python",
   "name": "python",
   "nbconvert_exporter": "python",
   "pygments_lexer": "ipython3",
   "version": "3.8.1"
  }
 },
 "nbformat": 4,
 "nbformat_minor": 4
}
