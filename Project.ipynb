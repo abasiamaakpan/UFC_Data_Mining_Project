{
 "cells": [
  {
   "cell_type": "markdown",
   "metadata": {},
   "source": [
    "# Project"
   ]
  },
  {
   "cell_type": "markdown",
   "metadata": {},
   "source": [
    "## Data Cleaning and Imputation"
   ]
  },
  {
   "cell_type": "markdown",
   "metadata": {},
   "source": [
    "We begin by loading the dataset, and showing a few of the matches to prove the data has been loaded."
   ]
  },
  {
   "cell_type": "code",
   "execution_count": 4,
   "metadata": {
    "scrolled": true
   },
   "outputs": [
    {
     "data": {
      "text/html": [
       "<div>\n",
       "<style scoped>\n",
       "    .dataframe tbody tr th:only-of-type {\n",
       "        vertical-align: middle;\n",
       "    }\n",
       "\n",
       "    .dataframe tbody tr th {\n",
       "        vertical-align: top;\n",
       "    }\n",
       "\n",
       "    .dataframe thead th {\n",
       "        text-align: right;\n",
       "    }\n",
       "</style>\n",
       "<table border=\"1\" class=\"dataframe\">\n",
       "  <thead>\n",
       "    <tr style=\"text-align: right;\">\n",
       "      <th></th>\n",
       "      <th>R_fighter</th>\n",
       "      <th>B_fighter</th>\n",
       "      <th>Referee</th>\n",
       "      <th>date</th>\n",
       "      <th>location</th>\n",
       "      <th>Winner</th>\n",
       "      <th>title_bout</th>\n",
       "      <th>weight_class</th>\n",
       "      <th>no_of_rounds</th>\n",
       "      <th>B_current_lose_streak</th>\n",
       "      <th>...</th>\n",
       "      <th>R_win_by_KO/TKO</th>\n",
       "      <th>R_win_by_Submission</th>\n",
       "      <th>R_win_by_TKO_Doctor_Stoppage</th>\n",
       "      <th>R_wins</th>\n",
       "      <th>R_Stance</th>\n",
       "      <th>R_Height_cms</th>\n",
       "      <th>R_Reach_cms</th>\n",
       "      <th>R_Weight_lbs</th>\n",
       "      <th>B_age</th>\n",
       "      <th>R_age</th>\n",
       "    </tr>\n",
       "  </thead>\n",
       "  <tbody>\n",
       "    <tr>\n",
       "      <td>0</td>\n",
       "      <td>Henry Cejudo</td>\n",
       "      <td>Marlon Moraes</td>\n",
       "      <td>Marc Goddard</td>\n",
       "      <td>2019-06-08</td>\n",
       "      <td>Chicago, Illinois, USA</td>\n",
       "      <td>Red</td>\n",
       "      <td>True</td>\n",
       "      <td>Bantamweight</td>\n",
       "      <td>5</td>\n",
       "      <td>0.0</td>\n",
       "      <td>...</td>\n",
       "      <td>2.0</td>\n",
       "      <td>0.0</td>\n",
       "      <td>0.0</td>\n",
       "      <td>8.0</td>\n",
       "      <td>Orthodox</td>\n",
       "      <td>162.56</td>\n",
       "      <td>162.56</td>\n",
       "      <td>135.0</td>\n",
       "      <td>31.0</td>\n",
       "      <td>32.0</td>\n",
       "    </tr>\n",
       "    <tr>\n",
       "      <td>1</td>\n",
       "      <td>Valentina Shevchenko</td>\n",
       "      <td>Jessica Eye</td>\n",
       "      <td>Robert Madrigal</td>\n",
       "      <td>2019-06-08</td>\n",
       "      <td>Chicago, Illinois, USA</td>\n",
       "      <td>Red</td>\n",
       "      <td>True</td>\n",
       "      <td>Women's Flyweight</td>\n",
       "      <td>5</td>\n",
       "      <td>0.0</td>\n",
       "      <td>...</td>\n",
       "      <td>0.0</td>\n",
       "      <td>2.0</td>\n",
       "      <td>0.0</td>\n",
       "      <td>5.0</td>\n",
       "      <td>Southpaw</td>\n",
       "      <td>165.10</td>\n",
       "      <td>167.64</td>\n",
       "      <td>125.0</td>\n",
       "      <td>32.0</td>\n",
       "      <td>31.0</td>\n",
       "    </tr>\n",
       "    <tr>\n",
       "      <td>2</td>\n",
       "      <td>Tony Ferguson</td>\n",
       "      <td>Donald Cerrone</td>\n",
       "      <td>Dan Miragliotta</td>\n",
       "      <td>2019-06-08</td>\n",
       "      <td>Chicago, Illinois, USA</td>\n",
       "      <td>Red</td>\n",
       "      <td>False</td>\n",
       "      <td>Lightweight</td>\n",
       "      <td>3</td>\n",
       "      <td>0.0</td>\n",
       "      <td>...</td>\n",
       "      <td>3.0</td>\n",
       "      <td>6.0</td>\n",
       "      <td>1.0</td>\n",
       "      <td>14.0</td>\n",
       "      <td>Orthodox</td>\n",
       "      <td>180.34</td>\n",
       "      <td>193.04</td>\n",
       "      <td>155.0</td>\n",
       "      <td>36.0</td>\n",
       "      <td>35.0</td>\n",
       "    </tr>\n",
       "    <tr>\n",
       "      <td>3</td>\n",
       "      <td>Jimmie Rivera</td>\n",
       "      <td>Petr Yan</td>\n",
       "      <td>Kevin MacDonald</td>\n",
       "      <td>2019-06-08</td>\n",
       "      <td>Chicago, Illinois, USA</td>\n",
       "      <td>Blue</td>\n",
       "      <td>False</td>\n",
       "      <td>Bantamweight</td>\n",
       "      <td>3</td>\n",
       "      <td>0.0</td>\n",
       "      <td>...</td>\n",
       "      <td>1.0</td>\n",
       "      <td>0.0</td>\n",
       "      <td>0.0</td>\n",
       "      <td>6.0</td>\n",
       "      <td>Orthodox</td>\n",
       "      <td>162.56</td>\n",
       "      <td>172.72</td>\n",
       "      <td>135.0</td>\n",
       "      <td>26.0</td>\n",
       "      <td>29.0</td>\n",
       "    </tr>\n",
       "    <tr>\n",
       "      <td>4</td>\n",
       "      <td>Tai Tuivasa</td>\n",
       "      <td>Blagoy Ivanov</td>\n",
       "      <td>Dan Miragliotta</td>\n",
       "      <td>2019-06-08</td>\n",
       "      <td>Chicago, Illinois, USA</td>\n",
       "      <td>Blue</td>\n",
       "      <td>False</td>\n",
       "      <td>Heavyweight</td>\n",
       "      <td>3</td>\n",
       "      <td>0.0</td>\n",
       "      <td>...</td>\n",
       "      <td>2.0</td>\n",
       "      <td>0.0</td>\n",
       "      <td>0.0</td>\n",
       "      <td>3.0</td>\n",
       "      <td>Southpaw</td>\n",
       "      <td>187.96</td>\n",
       "      <td>190.50</td>\n",
       "      <td>264.0</td>\n",
       "      <td>32.0</td>\n",
       "      <td>26.0</td>\n",
       "    </tr>\n",
       "  </tbody>\n",
       "</table>\n",
       "<p>5 rows × 145 columns</p>\n",
       "</div>"
      ],
      "text/plain": [
       "              R_fighter       B_fighter          Referee        date  \\\n",
       "0          Henry Cejudo   Marlon Moraes     Marc Goddard  2019-06-08   \n",
       "1  Valentina Shevchenko     Jessica Eye  Robert Madrigal  2019-06-08   \n",
       "2         Tony Ferguson  Donald Cerrone  Dan Miragliotta  2019-06-08   \n",
       "3         Jimmie Rivera        Petr Yan  Kevin MacDonald  2019-06-08   \n",
       "4           Tai Tuivasa   Blagoy Ivanov  Dan Miragliotta  2019-06-08   \n",
       "\n",
       "                 location Winner  title_bout       weight_class  no_of_rounds  \\\n",
       "0  Chicago, Illinois, USA    Red        True       Bantamweight             5   \n",
       "1  Chicago, Illinois, USA    Red        True  Women's Flyweight             5   \n",
       "2  Chicago, Illinois, USA    Red       False        Lightweight             3   \n",
       "3  Chicago, Illinois, USA   Blue       False       Bantamweight             3   \n",
       "4  Chicago, Illinois, USA   Blue       False        Heavyweight             3   \n",
       "\n",
       "   B_current_lose_streak  ...  R_win_by_KO/TKO  R_win_by_Submission  \\\n",
       "0                    0.0  ...              2.0                  0.0   \n",
       "1                    0.0  ...              0.0                  2.0   \n",
       "2                    0.0  ...              3.0                  6.0   \n",
       "3                    0.0  ...              1.0                  0.0   \n",
       "4                    0.0  ...              2.0                  0.0   \n",
       "\n",
       "   R_win_by_TKO_Doctor_Stoppage  R_wins  R_Stance  R_Height_cms  R_Reach_cms  \\\n",
       "0                           0.0     8.0  Orthodox        162.56       162.56   \n",
       "1                           0.0     5.0  Southpaw        165.10       167.64   \n",
       "2                           1.0    14.0  Orthodox        180.34       193.04   \n",
       "3                           0.0     6.0  Orthodox        162.56       172.72   \n",
       "4                           0.0     3.0  Southpaw        187.96       190.50   \n",
       "\n",
       "   R_Weight_lbs  B_age  R_age  \n",
       "0         135.0   31.0   32.0  \n",
       "1         125.0   32.0   31.0  \n",
       "2         155.0   36.0   35.0  \n",
       "3         135.0   26.0   29.0  \n",
       "4         264.0   32.0   26.0  \n",
       "\n",
       "[5 rows x 145 columns]"
      ]
     },
     "execution_count": 4,
     "metadata": {},
     "output_type": "execute_result"
    }
   ],
   "source": [
    "import pandas as pd\n",
    "\n",
    "df = pd.read_csv(\"data.csv\")\n",
    "df.head(5)"
   ]
  },
  {
   "cell_type": "markdown",
   "metadata": {},
   "source": [
    "### Missing Stances and Referee"
   ]
  },
  {
   "cell_type": "markdown",
   "metadata": {},
   "source": [
    "Some of the matches feature fighters with missing stance information or missing referee information. Since this is a relatively small number of matches out of the whole dataset, we will drop these matches from our consideration."
   ]
  },
  {
   "cell_type": "code",
   "execution_count": 5,
   "metadata": {},
   "outputs": [
    {
     "name": "stdout",
     "output_type": "stream",
     "text": [
      "Number of matches prior to filtering: 5144\n",
      "Number of matchs after filtering: 4865\n"
     ]
    }
   ],
   "source": [
    "# Show number of matches in dataset before removing matches with missing stance information\n",
    "print('Number of matches prior to filtering: ' + str(len(df)))\n",
    "\n",
    "# Remove matches with missing stance information\n",
    "filter1 = df[df['B_Stance'].notnull()]\n",
    "filter2 = filter1[filter1['R_Stance'].notnull()]\n",
    "filter3 = filter2[filter2['Referee'].notnull()]\n",
    "df = filter3\n",
    "print('Number of matchs after filtering: ' + str(len(filter3)))"
   ]
  },
  {
   "cell_type": "markdown",
   "metadata": {},
   "source": [
    "### Missing Numerical Data"
   ]
  },
  {
   "cell_type": "markdown",
   "metadata": {},
   "source": [
    "Many of the rows contain missing numerical data in certain columns. We will fill in these columns with the median for that column.\n",
    "\n",
    "First we will find columns with missing numerical data to demonstrate that our imputation is successful."
   ]
  },
  {
   "cell_type": "code",
   "execution_count": 6,
   "metadata": {},
   "outputs": [
    {
     "data": {
      "text/plain": [
       "Index(['B_avg_BODY_att', 'B_avg_BODY_landed', 'B_avg_CLINCH_att',\n",
       "       'B_avg_CLINCH_landed', 'B_avg_DISTANCE_att', 'B_avg_DISTANCE_landed',\n",
       "       'B_avg_GROUND_att', 'B_avg_GROUND_landed', 'B_avg_HEAD_att',\n",
       "       'B_avg_HEAD_landed',\n",
       "       ...\n",
       "       'R_avg_opp_SUB_ATT', 'R_avg_opp_TD_att', 'R_avg_opp_TD_landed',\n",
       "       'R_avg_opp_TD_pct', 'R_avg_opp_TOTAL_STR_att',\n",
       "       'R_avg_opp_TOTAL_STR_landed', 'R_total_time_fought(seconds)',\n",
       "       'R_Reach_cms', 'B_age', 'R_age'],\n",
       "      dtype='object', length=104)"
      ]
     },
     "execution_count": 6,
     "metadata": {},
     "output_type": "execute_result"
    }
   ],
   "source": [
    "df.columns[df.isnull().any()]"
   ]
  },
  {
   "cell_type": "markdown",
   "metadata": {},
   "source": [
    "We select R_age for our demonstration. Now we find a few rows that have a missing R_age."
   ]
  },
  {
   "cell_type": "code",
   "execution_count": 7,
   "metadata": {},
   "outputs": [
    {
     "data": {
      "text/html": [
       "<div>\n",
       "<style scoped>\n",
       "    .dataframe tbody tr th:only-of-type {\n",
       "        vertical-align: middle;\n",
       "    }\n",
       "\n",
       "    .dataframe tbody tr th {\n",
       "        vertical-align: top;\n",
       "    }\n",
       "\n",
       "    .dataframe thead th {\n",
       "        text-align: right;\n",
       "    }\n",
       "</style>\n",
       "<table border=\"1\" class=\"dataframe\">\n",
       "  <thead>\n",
       "    <tr style=\"text-align: right;\">\n",
       "      <th></th>\n",
       "      <th>R_fighter</th>\n",
       "      <th>B_fighter</th>\n",
       "      <th>Referee</th>\n",
       "      <th>date</th>\n",
       "      <th>location</th>\n",
       "      <th>Winner</th>\n",
       "      <th>title_bout</th>\n",
       "      <th>weight_class</th>\n",
       "      <th>no_of_rounds</th>\n",
       "      <th>B_current_lose_streak</th>\n",
       "      <th>...</th>\n",
       "      <th>R_win_by_KO/TKO</th>\n",
       "      <th>R_win_by_Submission</th>\n",
       "      <th>R_win_by_TKO_Doctor_Stoppage</th>\n",
       "      <th>R_wins</th>\n",
       "      <th>R_Stance</th>\n",
       "      <th>R_Height_cms</th>\n",
       "      <th>R_Reach_cms</th>\n",
       "      <th>R_Weight_lbs</th>\n",
       "      <th>B_age</th>\n",
       "      <th>R_age</th>\n",
       "    </tr>\n",
       "  </thead>\n",
       "  <tbody>\n",
       "    <tr>\n",
       "      <td>4171</td>\n",
       "      <td>Per Eklund</td>\n",
       "      <td>Samy Schiavo</td>\n",
       "      <td>Leon Roberts</td>\n",
       "      <td>2008-10-18</td>\n",
       "      <td>Birmingham, England, United Kingdom</td>\n",
       "      <td>Red</td>\n",
       "      <td>False</td>\n",
       "      <td>Lightweight</td>\n",
       "      <td>3</td>\n",
       "      <td>1.0</td>\n",
       "      <td>...</td>\n",
       "      <td>0.0</td>\n",
       "      <td>0.0</td>\n",
       "      <td>0.0</td>\n",
       "      <td>0.0</td>\n",
       "      <td>Orthodox</td>\n",
       "      <td>177.80</td>\n",
       "      <td>182.88</td>\n",
       "      <td>155.0</td>\n",
       "      <td>32.0</td>\n",
       "      <td>NaN</td>\n",
       "    </tr>\n",
       "    <tr>\n",
       "      <td>4376</td>\n",
       "      <td>Jess Liaudin</td>\n",
       "      <td>Anthony Torres</td>\n",
       "      <td>Mario Yamasaki</td>\n",
       "      <td>2007-09-08</td>\n",
       "      <td>London, England, United Kingdom</td>\n",
       "      <td>Red</td>\n",
       "      <td>False</td>\n",
       "      <td>Welterweight</td>\n",
       "      <td>3</td>\n",
       "      <td>0.0</td>\n",
       "      <td>...</td>\n",
       "      <td>0.0</td>\n",
       "      <td>1.0</td>\n",
       "      <td>0.0</td>\n",
       "      <td>1.0</td>\n",
       "      <td>Orthodox</td>\n",
       "      <td>175.26</td>\n",
       "      <td>182.88</td>\n",
       "      <td>170.0</td>\n",
       "      <td>29.0</td>\n",
       "      <td>NaN</td>\n",
       "    </tr>\n",
       "    <tr>\n",
       "      <td>4438</td>\n",
       "      <td>Jess Liaudin</td>\n",
       "      <td>Dennis Siver</td>\n",
       "      <td>Steve Mazzagatti</td>\n",
       "      <td>2007-04-21</td>\n",
       "      <td>Manchester, England, United Kingdom</td>\n",
       "      <td>Red</td>\n",
       "      <td>False</td>\n",
       "      <td>Welterweight</td>\n",
       "      <td>3</td>\n",
       "      <td>0.0</td>\n",
       "      <td>...</td>\n",
       "      <td>0.0</td>\n",
       "      <td>0.0</td>\n",
       "      <td>0.0</td>\n",
       "      <td>0.0</td>\n",
       "      <td>Orthodox</td>\n",
       "      <td>175.26</td>\n",
       "      <td>182.88</td>\n",
       "      <td>170.0</td>\n",
       "      <td>28.0</td>\n",
       "      <td>NaN</td>\n",
       "    </tr>\n",
       "    <tr>\n",
       "      <td>4767</td>\n",
       "      <td>Keith Rockel</td>\n",
       "      <td>Chris Liguori</td>\n",
       "      <td>John McCarthy</td>\n",
       "      <td>2003-11-21</td>\n",
       "      <td>Uncasville, Connecticut, USA</td>\n",
       "      <td>Red</td>\n",
       "      <td>False</td>\n",
       "      <td>Middleweight</td>\n",
       "      <td>3</td>\n",
       "      <td>0.0</td>\n",
       "      <td>...</td>\n",
       "      <td>0.0</td>\n",
       "      <td>0.0</td>\n",
       "      <td>0.0</td>\n",
       "      <td>0.0</td>\n",
       "      <td>Orthodox</td>\n",
       "      <td>182.88</td>\n",
       "      <td>NaN</td>\n",
       "      <td>185.0</td>\n",
       "      <td>NaN</td>\n",
       "      <td>NaN</td>\n",
       "    </tr>\n",
       "    <tr>\n",
       "      <td>4908</td>\n",
       "      <td>Ben Earwood</td>\n",
       "      <td>Chris Lytle</td>\n",
       "      <td>Mario Yamasaki</td>\n",
       "      <td>2000-11-17</td>\n",
       "      <td>Atlantic City, New Jersey, USA</td>\n",
       "      <td>Red</td>\n",
       "      <td>False</td>\n",
       "      <td>Welterweight</td>\n",
       "      <td>2</td>\n",
       "      <td>0.0</td>\n",
       "      <td>...</td>\n",
       "      <td>0.0</td>\n",
       "      <td>0.0</td>\n",
       "      <td>0.0</td>\n",
       "      <td>0.0</td>\n",
       "      <td>Orthodox</td>\n",
       "      <td>172.72</td>\n",
       "      <td>NaN</td>\n",
       "      <td>170.0</td>\n",
       "      <td>26.0</td>\n",
       "      <td>NaN</td>\n",
       "    </tr>\n",
       "  </tbody>\n",
       "</table>\n",
       "<p>5 rows × 145 columns</p>\n",
       "</div>"
      ],
      "text/plain": [
       "         R_fighter       B_fighter           Referee        date  \\\n",
       "4171    Per Eklund    Samy Schiavo      Leon Roberts  2008-10-18   \n",
       "4376  Jess Liaudin  Anthony Torres    Mario Yamasaki  2007-09-08   \n",
       "4438  Jess Liaudin    Dennis Siver  Steve Mazzagatti  2007-04-21   \n",
       "4767  Keith Rockel   Chris Liguori     John McCarthy  2003-11-21   \n",
       "4908   Ben Earwood     Chris Lytle    Mario Yamasaki  2000-11-17   \n",
       "\n",
       "                                 location Winner  title_bout  weight_class  \\\n",
       "4171  Birmingham, England, United Kingdom    Red       False   Lightweight   \n",
       "4376      London, England, United Kingdom    Red       False  Welterweight   \n",
       "4438  Manchester, England, United Kingdom    Red       False  Welterweight   \n",
       "4767         Uncasville, Connecticut, USA    Red       False  Middleweight   \n",
       "4908       Atlantic City, New Jersey, USA    Red       False  Welterweight   \n",
       "\n",
       "      no_of_rounds  B_current_lose_streak  ...  R_win_by_KO/TKO  \\\n",
       "4171             3                    1.0  ...              0.0   \n",
       "4376             3                    0.0  ...              0.0   \n",
       "4438             3                    0.0  ...              0.0   \n",
       "4767             3                    0.0  ...              0.0   \n",
       "4908             2                    0.0  ...              0.0   \n",
       "\n",
       "      R_win_by_Submission  R_win_by_TKO_Doctor_Stoppage  R_wins  R_Stance  \\\n",
       "4171                  0.0                           0.0     0.0  Orthodox   \n",
       "4376                  1.0                           0.0     1.0  Orthodox   \n",
       "4438                  0.0                           0.0     0.0  Orthodox   \n",
       "4767                  0.0                           0.0     0.0  Orthodox   \n",
       "4908                  0.0                           0.0     0.0  Orthodox   \n",
       "\n",
       "      R_Height_cms  R_Reach_cms  R_Weight_lbs  B_age  R_age  \n",
       "4171        177.80       182.88         155.0   32.0    NaN  \n",
       "4376        175.26       182.88         170.0   29.0    NaN  \n",
       "4438        175.26       182.88         170.0   28.0    NaN  \n",
       "4767        182.88          NaN         185.0    NaN    NaN  \n",
       "4908        172.72          NaN         170.0   26.0    NaN  \n",
       "\n",
       "[5 rows x 145 columns]"
      ]
     },
     "execution_count": 7,
     "metadata": {},
     "output_type": "execute_result"
    }
   ],
   "source": [
    "people = df[df['R_age'].isnull()].head(5)\n",
    "people"
   ]
  },
  {
   "cell_type": "markdown",
   "metadata": {},
   "source": [
    "Now we find the median for that column."
   ]
  },
  {
   "cell_type": "code",
   "execution_count": 8,
   "metadata": {},
   "outputs": [
    {
     "data": {
      "text/plain": [
       "29.0"
      ]
     },
     "execution_count": 8,
     "metadata": {},
     "output_type": "execute_result"
    }
   ],
   "source": [
    "df['R_age'].median()"
   ]
  },
  {
   "cell_type": "markdown",
   "metadata": {},
   "source": [
    "Now we apply fillna to the entire dataset, and show that the column is filled in with the median."
   ]
  },
  {
   "cell_type": "code",
   "execution_count": 9,
   "metadata": {},
   "outputs": [
    {
     "data": {
      "text/html": [
       "<div>\n",
       "<style scoped>\n",
       "    .dataframe tbody tr th:only-of-type {\n",
       "        vertical-align: middle;\n",
       "    }\n",
       "\n",
       "    .dataframe tbody tr th {\n",
       "        vertical-align: top;\n",
       "    }\n",
       "\n",
       "    .dataframe thead th {\n",
       "        text-align: right;\n",
       "    }\n",
       "</style>\n",
       "<table border=\"1\" class=\"dataframe\">\n",
       "  <thead>\n",
       "    <tr style=\"text-align: right;\">\n",
       "      <th></th>\n",
       "      <th>R_fighter</th>\n",
       "      <th>B_fighter</th>\n",
       "      <th>Referee</th>\n",
       "      <th>date</th>\n",
       "      <th>location</th>\n",
       "      <th>Winner</th>\n",
       "      <th>title_bout</th>\n",
       "      <th>weight_class</th>\n",
       "      <th>no_of_rounds</th>\n",
       "      <th>B_current_lose_streak</th>\n",
       "      <th>...</th>\n",
       "      <th>R_win_by_KO/TKO</th>\n",
       "      <th>R_win_by_Submission</th>\n",
       "      <th>R_win_by_TKO_Doctor_Stoppage</th>\n",
       "      <th>R_wins</th>\n",
       "      <th>R_Stance</th>\n",
       "      <th>R_Height_cms</th>\n",
       "      <th>R_Reach_cms</th>\n",
       "      <th>R_Weight_lbs</th>\n",
       "      <th>B_age</th>\n",
       "      <th>R_age</th>\n",
       "    </tr>\n",
       "  </thead>\n",
       "  <tbody>\n",
       "    <tr>\n",
       "      <td>4171</td>\n",
       "      <td>Per Eklund</td>\n",
       "      <td>Samy Schiavo</td>\n",
       "      <td>Leon Roberts</td>\n",
       "      <td>2008-10-18</td>\n",
       "      <td>Birmingham, England, United Kingdom</td>\n",
       "      <td>Red</td>\n",
       "      <td>False</td>\n",
       "      <td>Lightweight</td>\n",
       "      <td>3</td>\n",
       "      <td>1.0</td>\n",
       "      <td>...</td>\n",
       "      <td>0.0</td>\n",
       "      <td>0.0</td>\n",
       "      <td>0.0</td>\n",
       "      <td>0.0</td>\n",
       "      <td>Orthodox</td>\n",
       "      <td>177.80</td>\n",
       "      <td>182.88</td>\n",
       "      <td>155.0</td>\n",
       "      <td>32.0</td>\n",
       "      <td>29.0</td>\n",
       "    </tr>\n",
       "    <tr>\n",
       "      <td>4376</td>\n",
       "      <td>Jess Liaudin</td>\n",
       "      <td>Anthony Torres</td>\n",
       "      <td>Mario Yamasaki</td>\n",
       "      <td>2007-09-08</td>\n",
       "      <td>London, England, United Kingdom</td>\n",
       "      <td>Red</td>\n",
       "      <td>False</td>\n",
       "      <td>Welterweight</td>\n",
       "      <td>3</td>\n",
       "      <td>0.0</td>\n",
       "      <td>...</td>\n",
       "      <td>0.0</td>\n",
       "      <td>1.0</td>\n",
       "      <td>0.0</td>\n",
       "      <td>1.0</td>\n",
       "      <td>Orthodox</td>\n",
       "      <td>175.26</td>\n",
       "      <td>182.88</td>\n",
       "      <td>170.0</td>\n",
       "      <td>29.0</td>\n",
       "      <td>29.0</td>\n",
       "    </tr>\n",
       "    <tr>\n",
       "      <td>4438</td>\n",
       "      <td>Jess Liaudin</td>\n",
       "      <td>Dennis Siver</td>\n",
       "      <td>Steve Mazzagatti</td>\n",
       "      <td>2007-04-21</td>\n",
       "      <td>Manchester, England, United Kingdom</td>\n",
       "      <td>Red</td>\n",
       "      <td>False</td>\n",
       "      <td>Welterweight</td>\n",
       "      <td>3</td>\n",
       "      <td>0.0</td>\n",
       "      <td>...</td>\n",
       "      <td>0.0</td>\n",
       "      <td>0.0</td>\n",
       "      <td>0.0</td>\n",
       "      <td>0.0</td>\n",
       "      <td>Orthodox</td>\n",
       "      <td>175.26</td>\n",
       "      <td>182.88</td>\n",
       "      <td>170.0</td>\n",
       "      <td>28.0</td>\n",
       "      <td>29.0</td>\n",
       "    </tr>\n",
       "    <tr>\n",
       "      <td>4767</td>\n",
       "      <td>Keith Rockel</td>\n",
       "      <td>Chris Liguori</td>\n",
       "      <td>John McCarthy</td>\n",
       "      <td>2003-11-21</td>\n",
       "      <td>Uncasville, Connecticut, USA</td>\n",
       "      <td>Red</td>\n",
       "      <td>False</td>\n",
       "      <td>Middleweight</td>\n",
       "      <td>3</td>\n",
       "      <td>0.0</td>\n",
       "      <td>...</td>\n",
       "      <td>0.0</td>\n",
       "      <td>0.0</td>\n",
       "      <td>0.0</td>\n",
       "      <td>0.0</td>\n",
       "      <td>Orthodox</td>\n",
       "      <td>182.88</td>\n",
       "      <td>185.42</td>\n",
       "      <td>185.0</td>\n",
       "      <td>29.0</td>\n",
       "      <td>29.0</td>\n",
       "    </tr>\n",
       "    <tr>\n",
       "      <td>4908</td>\n",
       "      <td>Ben Earwood</td>\n",
       "      <td>Chris Lytle</td>\n",
       "      <td>Mario Yamasaki</td>\n",
       "      <td>2000-11-17</td>\n",
       "      <td>Atlantic City, New Jersey, USA</td>\n",
       "      <td>Red</td>\n",
       "      <td>False</td>\n",
       "      <td>Welterweight</td>\n",
       "      <td>2</td>\n",
       "      <td>0.0</td>\n",
       "      <td>...</td>\n",
       "      <td>0.0</td>\n",
       "      <td>0.0</td>\n",
       "      <td>0.0</td>\n",
       "      <td>0.0</td>\n",
       "      <td>Orthodox</td>\n",
       "      <td>172.72</td>\n",
       "      <td>185.42</td>\n",
       "      <td>170.0</td>\n",
       "      <td>26.0</td>\n",
       "      <td>29.0</td>\n",
       "    </tr>\n",
       "  </tbody>\n",
       "</table>\n",
       "<p>5 rows × 145 columns</p>\n",
       "</div>"
      ],
      "text/plain": [
       "         R_fighter       B_fighter           Referee        date  \\\n",
       "4171    Per Eklund    Samy Schiavo      Leon Roberts  2008-10-18   \n",
       "4376  Jess Liaudin  Anthony Torres    Mario Yamasaki  2007-09-08   \n",
       "4438  Jess Liaudin    Dennis Siver  Steve Mazzagatti  2007-04-21   \n",
       "4767  Keith Rockel   Chris Liguori     John McCarthy  2003-11-21   \n",
       "4908   Ben Earwood     Chris Lytle    Mario Yamasaki  2000-11-17   \n",
       "\n",
       "                                 location Winner  title_bout  weight_class  \\\n",
       "4171  Birmingham, England, United Kingdom    Red       False   Lightweight   \n",
       "4376      London, England, United Kingdom    Red       False  Welterweight   \n",
       "4438  Manchester, England, United Kingdom    Red       False  Welterweight   \n",
       "4767         Uncasville, Connecticut, USA    Red       False  Middleweight   \n",
       "4908       Atlantic City, New Jersey, USA    Red       False  Welterweight   \n",
       "\n",
       "      no_of_rounds  B_current_lose_streak  ...  R_win_by_KO/TKO  \\\n",
       "4171             3                    1.0  ...              0.0   \n",
       "4376             3                    0.0  ...              0.0   \n",
       "4438             3                    0.0  ...              0.0   \n",
       "4767             3                    0.0  ...              0.0   \n",
       "4908             2                    0.0  ...              0.0   \n",
       "\n",
       "      R_win_by_Submission  R_win_by_TKO_Doctor_Stoppage  R_wins  R_Stance  \\\n",
       "4171                  0.0                           0.0     0.0  Orthodox   \n",
       "4376                  1.0                           0.0     1.0  Orthodox   \n",
       "4438                  0.0                           0.0     0.0  Orthodox   \n",
       "4767                  0.0                           0.0     0.0  Orthodox   \n",
       "4908                  0.0                           0.0     0.0  Orthodox   \n",
       "\n",
       "      R_Height_cms  R_Reach_cms  R_Weight_lbs  B_age  R_age  \n",
       "4171        177.80       182.88         155.0   32.0   29.0  \n",
       "4376        175.26       182.88         170.0   29.0   29.0  \n",
       "4438        175.26       182.88         170.0   28.0   29.0  \n",
       "4767        182.88       185.42         185.0   29.0   29.0  \n",
       "4908        172.72       185.42         170.0   26.0   29.0  \n",
       "\n",
       "[5 rows x 145 columns]"
      ]
     },
     "execution_count": 9,
     "metadata": {},
     "output_type": "execute_result"
    }
   ],
   "source": [
    "df = df.fillna(df.median())\n",
    "df.loc[people.index.tolist()]"
   ]
  },
  {
   "cell_type": "markdown",
   "metadata": {},
   "source": [
    "### Dimensionality Reduction-PCA ### "
   ]
  },
  {
   "cell_type": "markdown",
   "metadata": {},
   "source": [
    "We apply dimensionality reduction to obtain an ordered list of components that account for the largest variance in the data set and ultimately group similar fighters based on their fighting styles\n",
    "\n"
   ]
  },
  {
   "cell_type": "markdown",
   "metadata": {},
   "source": [
    "Firstly we have to group all the fighters by weight class "
   ]
  },
  {
   "cell_type": "code",
   "execution_count": 38,
   "metadata": {},
   "outputs": [
    {
     "name": "stdout",
     "output_type": "stream",
     "text": [
      "weight_class\n",
      "Bantamweight             344\n",
      "Catch Weight              37\n",
      "Featherweight            417\n",
      "Flyweight                184\n",
      "Heavyweight              497\n",
      "Light Heavyweight        493\n",
      "Lightweight              931\n",
      "Middleweight             709\n",
      "Open Weight               78\n",
      "Welterweight             936\n",
      "Women's Bantamweight      93\n",
      "Women's Featherweight      8\n",
      "Women's Flyweight         31\n",
      "Women's Strawweight      107\n",
      "dtype: int64\n"
     ]
    }
   ],
   "source": [
    "df_group=df.groupby(['weight_class'])\n",
    "print(df_group.size())\n"
   ]
  },
  {
   "cell_type": "code",
   "execution_count": 39,
   "metadata": {},
   "outputs": [],
   "source": [
    "df_group_bantamweight=df_group.get_group('Bantamweight')"
   ]
  },
  {
   "cell_type": "code",
   "execution_count": 43,
   "metadata": {},
   "outputs": [],
   "source": [
    "df_group_Catch_Weight=df_group.get_group('Catch Weight')\n"
   ]
  },
  {
   "cell_type": "code",
   "execution_count": 44,
   "metadata": {},
   "outputs": [],
   "source": [
    "df_group_Featherweight=df_group.get_group('Featherweight')\n"
   ]
  },
  {
   "cell_type": "code",
   "execution_count": 45,
   "metadata": {},
   "outputs": [],
   "source": [
    "df_group_Flyweight=df_group.get_group('Flyweight')\n"
   ]
  },
  {
   "cell_type": "code",
   "execution_count": 46,
   "metadata": {},
   "outputs": [],
   "source": [
    "df_group_Heavyweight=df_group.get_group('Heavyweight')\n"
   ]
  },
  {
   "cell_type": "code",
   "execution_count": 48,
   "metadata": {},
   "outputs": [],
   "source": [
    "df_group_Light_Heavyweight=df_group.get_group('Light Heavyweight')\n"
   ]
  },
  {
   "cell_type": "code",
   "execution_count": 49,
   "metadata": {},
   "outputs": [],
   "source": [
    "df_group_Lightweight=df_group.get_group('Lightweight')\n"
   ]
  },
  {
   "cell_type": "code",
   "execution_count": null,
   "metadata": {},
   "outputs": [],
   "source": [
    "df_group_Middleweight=df_group.get_group('Middleweight')\n"
   ]
  },
  {
   "cell_type": "code",
   "execution_count": null,
   "metadata": {},
   "outputs": [],
   "source": [
    "df_group_Open_Weight=df_group.get_group('Open_Weight')\n"
   ]
  },
  {
   "cell_type": "code",
   "execution_count": 50,
   "metadata": {},
   "outputs": [],
   "source": [
    "df_group_Welterweight=df_group.get_group('Welterweight')\n"
   ]
  },
  {
   "cell_type": "code",
   "execution_count": 51,
   "metadata": {},
   "outputs": [],
   "source": [
    "df_group_Womens_Bantamweight=df_group.get_group(\"Women's Bantamweight\")\n"
   ]
  },
  {
   "cell_type": "code",
   "execution_count": 52,
   "metadata": {},
   "outputs": [],
   "source": [
    "df_group_Womens_Featherweight=df_group.get_group(\"Women's Featherweight\")\n"
   ]
  },
  {
   "cell_type": "code",
   "execution_count": 53,
   "metadata": {},
   "outputs": [],
   "source": [
    "df_group_Womens_Flyweight=df_group.get_group(\"Women's Flyweight\")\n"
   ]
  },
  {
   "cell_type": "code",
   "execution_count": 54,
   "metadata": {},
   "outputs": [],
   "source": [
    "df_group_Womens_Flyweight=df_group.get_group(\"Women's Flyweight\")\n"
   ]
  },
  {
   "cell_type": "code",
   "execution_count": 82,
   "metadata": {},
   "outputs": [
    {
     "name": "stdout",
     "output_type": "stream",
     "text": [
      "344\n"
     ]
    }
   ],
   "source": [
    "#pd.set_option('display.max_columns', 999)\n",
    "#pd.set_option('display.max_rows', 999)\n",
    "\n",
    "df_bantamweight_new=df_group_bantamweight.drop(columns=[\"R_fighter\",\"B_fighter\",\"Referee\",\"date\",\"location\",\"Winner\",\"title_bout\",\"weight_class\",\"B_Stance\",\"R_Stance\"])\n",
    "pca = decomposition.PCA(n_components=6)\n",
    "X_pca_bantamweight=pca.fit_transform(df_bantamweight_new)\n",
    "print(len(X_pca_bantamweight))"
   ]
  },
  {
   "cell_type": "code",
   "execution_count": null,
   "metadata": {},
   "outputs": [],
   "source": [
    "# :\n",
    "# # Generate scree plot\n",
    "\n",
    "# N = 6\n",
    "# ind = np.arange(N)  # the x locations for the groups\n",
    "\n",
    "# vals = [0.19268752,\n",
    "#         0.16491423,\n",
    "#         0.11496179,\n",
    "#         0.08523838,\n",
    "#         0.05260764,\n",
    "#         0.04703754,\n",
    "#         0.03596589,\n",
    "#         0.03111252]\n",
    "\n",
    "# pl.figure(figsize=(10, 6), dpi=250)\n",
    "# ax = pl.subplot(111)\n",
    "# ax.bar(ind, pca.explained_variance_ratio_, 0.35, \n",
    "#        color=[(0.949, 0.718, 0.004),\n",
    "#               (0.898, 0.49, 0.016),\n",
    "#               (0.863, 0, 0.188),\n",
    "#               (0.694, 0, 0.345),\n",
    "#               (0.486, 0.216, 0.541),\n",
    "#               (0.204, 0.396, 0.667),\n",
    "#               (0.035, 0.635, 0.459),\n",
    "#               (0.486, 0.722, 0.329),\n",
    "#              ])\n",
    "\n",
    "# ax.annotate(r\"%d%%\" % (int(vals[0]*100)), (ind[0]+0.2, vals[0]), va=\"bottom\", ha=\"center\", fontsize=12)\n",
    "# ax.annotate(r\"%d%%\" % (int(vals[1]*100)), (ind[1]+0.2, vals[1]), va=\"bottom\", ha=\"center\", fontsize=12)\n",
    "# ax.annotate(r\"%d%%\" % (int(vals[2]*100)), (ind[2]+0.2, vals[2]), va=\"bottom\", ha=\"center\", fontsize=12)\n",
    "# ax.annotate(r\"%d%%\" % (int(vals[3]*100)), (ind[3]+0.2, vals[3]), va=\"bottom\", ha=\"center\", fontsize=12)\n",
    "# ax.annotate(r\"%d%%\" % (int(vals[4]*100)), (ind[4]+0.2, vals[4]), va=\"bottom\", ha=\"center\", fontsize=12)\n",
    "# ax.annotate(r\"%d%%\" % (int(vals[5]*100)), (ind[5]+0.2, vals[5]), va=\"bottom\", ha=\"center\", fontsize=12)\n",
    "# ax.annotate(r\"%s%%\" % ((str(vals[6]*100)[:4 + (0-1)])), (ind[6]+0.2, vals[6]), va=\"bottom\", ha=\"center\", fontsize=12)\n",
    "# ax.annotate(r\"%s%%\" % ((str(vals[7]*100)[:4 + (0-1)])), (ind[7]+0.2, vals[7]), va=\"bottom\", ha=\"center\", fontsize=12)\n",
    "\n",
    "# ax.set_xticklabels(('       0',\n",
    "#                     '       1',\n",
    "#                     '       2',\n",
    "#                     '       3',\n",
    "#                     '       4',\n",
    "#                     '       5',\n",
    "#                     '       6',\n",
    "#                     '       7',\n",
    "#                     '       8'), \n",
    "#                    fontsize=12)\n",
    "# ax.set_yticklabels(('0.00', '0.05', '0.10', '0.15', '0.20', '0.25'), fontsize=12)\n",
    "# ax.set_ylim(0, .25)\n",
    "# ax.set_xlim(0-0.45, 8+0.45)\n",
    "\n",
    "# ax.xaxis.set_tick_params(width=0)\n",
    "# ax.yaxis.set_tick_params(width=2, length=12)\n",
    "\n",
    "# ax.set_xlabel(\"Principal Component\", fontsize=12)\n",
    "# ax.set_ylabel(\"Variance Explained (%)\", fontsize=12)\n",
    "\n",
    "# pl.title(\"Scree Plot for the Digits Dataset\", fontsize=16)"
   ]
  },
  {
   "cell_type": "code",
   "execution_count": 77,
   "metadata": {},
   "outputs": [
    {
     "name": "stdout",
     "output_type": "stream",
     "text": [
      "135\n"
     ]
    },
    {
     "data": {
      "text/plain": [
       "array([[ 2.89249512e+02, -2.32275466e+01, -5.45931429e+01, ...,\n",
       "         6.96609118e-01, -1.86766329e-01,  3.51411872e-14],\n",
       "       [ 6.06048679e+02,  7.99798506e+01,  9.73351333e+01, ...,\n",
       "        -2.91270027e-01,  7.80279379e-02,  3.51411872e-14],\n",
       "       [ 4.11763514e+02,  1.05604514e+02, -1.16587505e+02, ...,\n",
       "        -9.31724746e-02,  1.07391449e-01,  3.51411872e-14],\n",
       "       ...,\n",
       "       [-1.88035006e+02, -3.84972635e+02,  9.83014706e+00, ...,\n",
       "        -9.57200213e-01, -2.00616831e-01,  3.51411872e-14],\n",
       "       [-5.29041302e+02,  5.80219242e+00,  2.80103230e+01, ...,\n",
       "         2.77921935e+00,  5.95893375e-01,  3.51411872e-14],\n",
       "       [-5.65555708e+02,  1.34973065e+01,  3.28074175e+01, ...,\n",
       "         3.22375693e-01, -2.59958759e+00,  3.51411872e-14]])"
      ]
     },
     "execution_count": 77,
     "metadata": {},
     "output_type": "execute_result"
    }
   ],
   "source": [
    "#pd.set_option('display.max_columns', 999)\n",
    "#pd.set_option('display.max_rows', 999)\n",
    "\n",
    "df_Catch_Weight_new=df_group_Catch_Weight.drop(columns=[\"R_fighter\",\"B_fighter\",\"Referee\",\"date\",\"location\",\"Winner\",\"title_bout\",\"weight_class\",\"B_Stance\",\"R_Stance\"])\n",
    "print(len(df_bantamweight_new.columns))\n",
    "pca = decomposition.PCA(n_components=37)\n",
    "X_pca_Catch_Weight=pca.fit_transform(df_Catch_Weight_new)\n",
    "X_pca_Catch_Weight\n"
   ]
  },
  {
   "cell_type": "code",
   "execution_count": 69,
   "metadata": {},
   "outputs": [
    {
     "data": {
      "text/plain": [
       "array([[ -31.20330593, -134.28014541,  153.73280311],\n",
       "       [-234.09732261,  282.34696332,   13.23141326],\n",
       "       [  20.30165943,   48.8114748 ,   -8.47870559],\n",
       "       ...,\n",
       "       [ -65.85370714,  -65.23508821,  -63.66848371],\n",
       "       [ -86.85773831,   21.14553429,  -46.23532435],\n",
       "       [ -86.82044269,   21.29071877,  -46.13478159]])"
      ]
     },
     "execution_count": 69,
     "metadata": {},
     "output_type": "execute_result"
    }
   ],
   "source": [
    "df_group_Featherweight_new=df_group_Featherweight.drop(columns=[\"R_fighter\",\"B_fighter\",\"Referee\",\"date\",\"location\",\"Winner\",\"title_bout\",\"weight_class\",\"B_Stance\",\"R_Stance\"])\n",
    "pca = decomposition.PCA(n_components=3)\n",
    "X_pca_group_Featherweight=pca.fit_transform(df_group_Featherweight_new)\n",
    "X_pca_group_Featherweight\n"
   ]
  },
  {
   "cell_type": "code",
   "execution_count": 57,
   "metadata": {},
   "outputs": [],
   "source": [
    "df_new=df.drop(columns=[\"R_fighter\",\"B_fighter\",\"Referee\",\"date\",\"location\",\"Winner\",\"title_bout\",\"weight_class\",\"B_Stance\",\"R_Stance\"])"
   ]
  },
  {
   "cell_type": "code",
   "execution_count": 26,
   "metadata": {},
   "outputs": [
    {
     "data": {
      "text/plain": [
       "array([[ 3.78933703e+01,  2.35715566e+02,  5.96958272e+01,\n",
       "        -7.12575349e+00],\n",
       "       [ 5.77895484e+02,  2.80375709e+01,  2.25171526e+01,\n",
       "         7.26009099e+01],\n",
       "       [ 5.10230400e+01,  7.70617163e+00,  1.36288831e+02,\n",
       "        -3.01217769e+01],\n",
       "       ...,\n",
       "       [ 6.91667931e+00, -1.86914222e+00, -3.04090404e+01,\n",
       "         1.71373027e+00],\n",
       "       [-2.14425266e+00, -1.17340570e+00, -4.73642654e+01,\n",
       "         8.26590327e+00],\n",
       "       [-9.06997567e+00, -1.91545598e-01, -6.01375664e+01,\n",
       "         1.40030517e+01]])"
      ]
     },
     "execution_count": 26,
     "metadata": {},
     "output_type": "execute_result"
    }
   ],
   "source": [
    "from sklearn import (cluster, datasets, decomposition, ensemble, manifold, random_projection)\n",
    "\n",
    "pca = decomposition.PCA(n_components=4)\n",
    "X_pca=pca.fit_transform(df_new)\n",
    "X_pca"
   ]
  },
  {
   "cell_type": "code",
   "execution_count": null,
   "metadata": {},
   "outputs": [],
   "source": []
  },
  {
   "cell_type": "code",
   "execution_count": 14,
   "metadata": {},
   "outputs": [],
   "source": [
    "column_names=df.columns"
   ]
  },
  {
   "cell_type": "code",
   "execution_count": 12,
   "metadata": {},
   "outputs": [
    {
     "ename": "AttributeError",
     "evalue": "'DataFrame' object has no attribute 'data'",
     "output_type": "error",
     "traceback": [
      "\u001b[0;31m---------------------------------------------------------------------------\u001b[0m",
      "\u001b[0;31mAttributeError\u001b[0m                            Traceback (most recent call last)",
      "\u001b[0;32m<ipython-input-12-7218c6e9dcff>\u001b[0m in \u001b[0;36m<module>\u001b[0;34m\u001b[0m\n\u001b[0;32m----> 1\u001b[0;31m \u001b[0mdf\u001b[0m\u001b[0;34m.\u001b[0m\u001b[0mdata\u001b[0m\u001b[0;34m\u001b[0m\u001b[0;34m\u001b[0m\u001b[0m\n\u001b[0m",
      "\u001b[0;32m/opt/anaconda3/lib/python3.7/site-packages/pandas/core/generic.py\u001b[0m in \u001b[0;36m__getattr__\u001b[0;34m(self, name)\u001b[0m\n\u001b[1;32m   5177\u001b[0m             \u001b[0;32mif\u001b[0m \u001b[0mself\u001b[0m\u001b[0;34m.\u001b[0m\u001b[0m_info_axis\u001b[0m\u001b[0;34m.\u001b[0m\u001b[0m_can_hold_identifiers_and_holds_name\u001b[0m\u001b[0;34m(\u001b[0m\u001b[0mname\u001b[0m\u001b[0;34m)\u001b[0m\u001b[0;34m:\u001b[0m\u001b[0;34m\u001b[0m\u001b[0;34m\u001b[0m\u001b[0m\n\u001b[1;32m   5178\u001b[0m                 \u001b[0;32mreturn\u001b[0m \u001b[0mself\u001b[0m\u001b[0;34m[\u001b[0m\u001b[0mname\u001b[0m\u001b[0;34m]\u001b[0m\u001b[0;34m\u001b[0m\u001b[0;34m\u001b[0m\u001b[0m\n\u001b[0;32m-> 5179\u001b[0;31m             \u001b[0;32mreturn\u001b[0m \u001b[0mobject\u001b[0m\u001b[0;34m.\u001b[0m\u001b[0m__getattribute__\u001b[0m\u001b[0;34m(\u001b[0m\u001b[0mself\u001b[0m\u001b[0;34m,\u001b[0m \u001b[0mname\u001b[0m\u001b[0;34m)\u001b[0m\u001b[0;34m\u001b[0m\u001b[0;34m\u001b[0m\u001b[0m\n\u001b[0m\u001b[1;32m   5180\u001b[0m \u001b[0;34m\u001b[0m\u001b[0m\n\u001b[1;32m   5181\u001b[0m     \u001b[0;32mdef\u001b[0m \u001b[0m__setattr__\u001b[0m\u001b[0;34m(\u001b[0m\u001b[0mself\u001b[0m\u001b[0;34m,\u001b[0m \u001b[0mname\u001b[0m\u001b[0;34m,\u001b[0m \u001b[0mvalue\u001b[0m\u001b[0;34m)\u001b[0m\u001b[0;34m:\u001b[0m\u001b[0;34m\u001b[0m\u001b[0;34m\u001b[0m\u001b[0m\n",
      "\u001b[0;31mAttributeError\u001b[0m: 'DataFrame' object has no attribute 'data'"
     ]
    }
   ],
   "source": [
    "df.data"
   ]
  },
  {
   "cell_type": "code",
   "execution_count": null,
   "metadata": {},
   "outputs": [],
   "source": []
  }
 ],
 "metadata": {
  "kernelspec": {
   "display_name": "Python 3",
   "language": "python",
   "name": "python3"
  },
  "language_info": {
   "codemirror_mode": {
    "name": "ipython",
    "version": 3
   },
   "file_extension": ".py",
   "mimetype": "text/x-python",
   "name": "python",
   "nbconvert_exporter": "python",
   "pygments_lexer": "ipython3",
   "version": "3.7.4"
  }
 },
 "nbformat": 4,
 "nbformat_minor": 2
}
