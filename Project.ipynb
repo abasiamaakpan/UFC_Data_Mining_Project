{
 "cells": [
  {
   "cell_type": "markdown",
   "metadata": {},
   "source": [
    "# Project"
   ]
  },
  {
   "cell_type": "markdown",
   "metadata": {},
   "source": [
    "## Data Cleaning and Imputation"
   ]
  },
  {
   "cell_type": "markdown",
   "metadata": {},
   "source": [
    "We begin by loading the dataset, and showing a few of the matches to prove the data has been loaded."
   ]
  },
  {
   "cell_type": "code",
   "execution_count": 3,
   "metadata": {
    "scrolled": true
   },
   "outputs": [
    {
     "data": {
      "text/html": [
       "<div>\n",
       "<style scoped>\n",
       "    .dataframe tbody tr th:only-of-type {\n",
       "        vertical-align: middle;\n",
       "    }\n",
       "\n",
       "    .dataframe tbody tr th {\n",
       "        vertical-align: top;\n",
       "    }\n",
       "\n",
       "    .dataframe thead th {\n",
       "        text-align: right;\n",
       "    }\n",
       "</style>\n",
       "<table border=\"1\" class=\"dataframe\">\n",
       "  <thead>\n",
       "    <tr style=\"text-align: right;\">\n",
       "      <th></th>\n",
       "      <th>R_fighter</th>\n",
       "      <th>B_fighter</th>\n",
       "      <th>Referee</th>\n",
       "      <th>date</th>\n",
       "      <th>location</th>\n",
       "      <th>Winner</th>\n",
       "      <th>title_bout</th>\n",
       "      <th>weight_class</th>\n",
       "      <th>no_of_rounds</th>\n",
       "      <th>B_current_lose_streak</th>\n",
       "      <th>...</th>\n",
       "      <th>R_win_by_KO/TKO</th>\n",
       "      <th>R_win_by_Submission</th>\n",
       "      <th>R_win_by_TKO_Doctor_Stoppage</th>\n",
       "      <th>R_wins</th>\n",
       "      <th>R_Stance</th>\n",
       "      <th>R_Height_cms</th>\n",
       "      <th>R_Reach_cms</th>\n",
       "      <th>R_Weight_lbs</th>\n",
       "      <th>B_age</th>\n",
       "      <th>R_age</th>\n",
       "    </tr>\n",
       "  </thead>\n",
       "  <tbody>\n",
       "    <tr>\n",
       "      <td>0</td>\n",
       "      <td>Henry Cejudo</td>\n",
       "      <td>Marlon Moraes</td>\n",
       "      <td>Marc Goddard</td>\n",
       "      <td>2019-06-08</td>\n",
       "      <td>Chicago, Illinois, USA</td>\n",
       "      <td>Red</td>\n",
       "      <td>True</td>\n",
       "      <td>Bantamweight</td>\n",
       "      <td>5</td>\n",
       "      <td>0.0</td>\n",
       "      <td>...</td>\n",
       "      <td>2.0</td>\n",
       "      <td>0.0</td>\n",
       "      <td>0.0</td>\n",
       "      <td>8.0</td>\n",
       "      <td>Orthodox</td>\n",
       "      <td>162.56</td>\n",
       "      <td>162.56</td>\n",
       "      <td>135.0</td>\n",
       "      <td>31.0</td>\n",
       "      <td>32.0</td>\n",
       "    </tr>\n",
       "    <tr>\n",
       "      <td>1</td>\n",
       "      <td>Valentina Shevchenko</td>\n",
       "      <td>Jessica Eye</td>\n",
       "      <td>Robert Madrigal</td>\n",
       "      <td>2019-06-08</td>\n",
       "      <td>Chicago, Illinois, USA</td>\n",
       "      <td>Red</td>\n",
       "      <td>True</td>\n",
       "      <td>Women's Flyweight</td>\n",
       "      <td>5</td>\n",
       "      <td>0.0</td>\n",
       "      <td>...</td>\n",
       "      <td>0.0</td>\n",
       "      <td>2.0</td>\n",
       "      <td>0.0</td>\n",
       "      <td>5.0</td>\n",
       "      <td>Southpaw</td>\n",
       "      <td>165.10</td>\n",
       "      <td>167.64</td>\n",
       "      <td>125.0</td>\n",
       "      <td>32.0</td>\n",
       "      <td>31.0</td>\n",
       "    </tr>\n",
       "    <tr>\n",
       "      <td>2</td>\n",
       "      <td>Tony Ferguson</td>\n",
       "      <td>Donald Cerrone</td>\n",
       "      <td>Dan Miragliotta</td>\n",
       "      <td>2019-06-08</td>\n",
       "      <td>Chicago, Illinois, USA</td>\n",
       "      <td>Red</td>\n",
       "      <td>False</td>\n",
       "      <td>Lightweight</td>\n",
       "      <td>3</td>\n",
       "      <td>0.0</td>\n",
       "      <td>...</td>\n",
       "      <td>3.0</td>\n",
       "      <td>6.0</td>\n",
       "      <td>1.0</td>\n",
       "      <td>14.0</td>\n",
       "      <td>Orthodox</td>\n",
       "      <td>180.34</td>\n",
       "      <td>193.04</td>\n",
       "      <td>155.0</td>\n",
       "      <td>36.0</td>\n",
       "      <td>35.0</td>\n",
       "    </tr>\n",
       "    <tr>\n",
       "      <td>3</td>\n",
       "      <td>Jimmie Rivera</td>\n",
       "      <td>Petr Yan</td>\n",
       "      <td>Kevin MacDonald</td>\n",
       "      <td>2019-06-08</td>\n",
       "      <td>Chicago, Illinois, USA</td>\n",
       "      <td>Blue</td>\n",
       "      <td>False</td>\n",
       "      <td>Bantamweight</td>\n",
       "      <td>3</td>\n",
       "      <td>0.0</td>\n",
       "      <td>...</td>\n",
       "      <td>1.0</td>\n",
       "      <td>0.0</td>\n",
       "      <td>0.0</td>\n",
       "      <td>6.0</td>\n",
       "      <td>Orthodox</td>\n",
       "      <td>162.56</td>\n",
       "      <td>172.72</td>\n",
       "      <td>135.0</td>\n",
       "      <td>26.0</td>\n",
       "      <td>29.0</td>\n",
       "    </tr>\n",
       "    <tr>\n",
       "      <td>4</td>\n",
       "      <td>Tai Tuivasa</td>\n",
       "      <td>Blagoy Ivanov</td>\n",
       "      <td>Dan Miragliotta</td>\n",
       "      <td>2019-06-08</td>\n",
       "      <td>Chicago, Illinois, USA</td>\n",
       "      <td>Blue</td>\n",
       "      <td>False</td>\n",
       "      <td>Heavyweight</td>\n",
       "      <td>3</td>\n",
       "      <td>0.0</td>\n",
       "      <td>...</td>\n",
       "      <td>2.0</td>\n",
       "      <td>0.0</td>\n",
       "      <td>0.0</td>\n",
       "      <td>3.0</td>\n",
       "      <td>Southpaw</td>\n",
       "      <td>187.96</td>\n",
       "      <td>190.50</td>\n",
       "      <td>264.0</td>\n",
       "      <td>32.0</td>\n",
       "      <td>26.0</td>\n",
       "    </tr>\n",
       "  </tbody>\n",
       "</table>\n",
       "<p>5 rows × 145 columns</p>\n",
       "</div>"
      ],
      "text/plain": [
       "              R_fighter       B_fighter          Referee        date  \\\n",
       "0          Henry Cejudo   Marlon Moraes     Marc Goddard  2019-06-08   \n",
       "1  Valentina Shevchenko     Jessica Eye  Robert Madrigal  2019-06-08   \n",
       "2         Tony Ferguson  Donald Cerrone  Dan Miragliotta  2019-06-08   \n",
       "3         Jimmie Rivera        Petr Yan  Kevin MacDonald  2019-06-08   \n",
       "4           Tai Tuivasa   Blagoy Ivanov  Dan Miragliotta  2019-06-08   \n",
       "\n",
       "                 location Winner  title_bout       weight_class  no_of_rounds  \\\n",
       "0  Chicago, Illinois, USA    Red        True       Bantamweight             5   \n",
       "1  Chicago, Illinois, USA    Red        True  Women's Flyweight             5   \n",
       "2  Chicago, Illinois, USA    Red       False        Lightweight             3   \n",
       "3  Chicago, Illinois, USA   Blue       False       Bantamweight             3   \n",
       "4  Chicago, Illinois, USA   Blue       False        Heavyweight             3   \n",
       "\n",
       "   B_current_lose_streak  ...  R_win_by_KO/TKO  R_win_by_Submission  \\\n",
       "0                    0.0  ...              2.0                  0.0   \n",
       "1                    0.0  ...              0.0                  2.0   \n",
       "2                    0.0  ...              3.0                  6.0   \n",
       "3                    0.0  ...              1.0                  0.0   \n",
       "4                    0.0  ...              2.0                  0.0   \n",
       "\n",
       "   R_win_by_TKO_Doctor_Stoppage  R_wins  R_Stance  R_Height_cms  R_Reach_cms  \\\n",
       "0                           0.0     8.0  Orthodox        162.56       162.56   \n",
       "1                           0.0     5.0  Southpaw        165.10       167.64   \n",
       "2                           1.0    14.0  Orthodox        180.34       193.04   \n",
       "3                           0.0     6.0  Orthodox        162.56       172.72   \n",
       "4                           0.0     3.0  Southpaw        187.96       190.50   \n",
       "\n",
       "   R_Weight_lbs  B_age  R_age  \n",
       "0         135.0   31.0   32.0  \n",
       "1         125.0   32.0   31.0  \n",
       "2         155.0   36.0   35.0  \n",
       "3         135.0   26.0   29.0  \n",
       "4         264.0   32.0   26.0  \n",
       "\n",
       "[5 rows x 145 columns]"
      ]
     },
     "execution_count": 3,
     "metadata": {},
     "output_type": "execute_result"
    }
   ],
   "source": [
    "import pandas as pd\n",
    "\n",
    "df = pd.read_csv(\"data.csv\")\n",
    "df.head(5)"
   ]
  },
  {
   "cell_type": "markdown",
   "metadata": {},
   "source": [
    "### Missing Stances and Referee"
   ]
  },
  {
   "cell_type": "markdown",
   "metadata": {},
   "source": [
    "Some of the matches feature fighters with missing stance information or missing referee information. Since this is a relatively small number of matches out of the whole dataset, we will drop these matches from our consideration."
   ]
  },
  {
   "cell_type": "code",
   "execution_count": 4,
   "metadata": {},
   "outputs": [
    {
     "name": "stdout",
     "output_type": "stream",
     "text": [
      "Number of matches prior to filtering: 5144\n",
      "Number of matchs after filtering: 4865\n"
     ]
    }
   ],
   "source": [
    "# Show number of matches in dataset before removing matches with missing stance information\n",
    "print('Number of matches prior to filtering: ' + str(len(df)))\n",
    "\n",
    "# Remove matches with missing stance information\n",
    "filter1 = df[df['B_Stance'].notnull()]\n",
    "filter2 = filter1[filter1['R_Stance'].notnull()]\n",
    "filter3 = filter2[filter2['Referee'].notnull()]\n",
    "df = filter3\n",
    "print('Number of matchs after filtering: ' + str(len(filter3)))"
   ]
  },
  {
   "cell_type": "markdown",
   "metadata": {},
   "source": [
    "### Missing Numerical Data"
   ]
  },
  {
   "cell_type": "markdown",
   "metadata": {},
   "source": [
    "Many of the rows contain missing numerical data in certain columns. We will fill in these columns with the median for that column.\n",
    "\n",
    "First we will find columns with missing numerical data to demonstrate that our imputation is successful."
   ]
  },
  {
   "cell_type": "code",
   "execution_count": 5,
   "metadata": {},
   "outputs": [
    {
     "data": {
      "text/plain": [
       "Index(['B_avg_BODY_att', 'B_avg_BODY_landed', 'B_avg_CLINCH_att',\n",
       "       'B_avg_CLINCH_landed', 'B_avg_DISTANCE_att', 'B_avg_DISTANCE_landed',\n",
       "       'B_avg_GROUND_att', 'B_avg_GROUND_landed', 'B_avg_HEAD_att',\n",
       "       'B_avg_HEAD_landed',\n",
       "       ...\n",
       "       'R_avg_opp_SUB_ATT', 'R_avg_opp_TD_att', 'R_avg_opp_TD_landed',\n",
       "       'R_avg_opp_TD_pct', 'R_avg_opp_TOTAL_STR_att',\n",
       "       'R_avg_opp_TOTAL_STR_landed', 'R_total_time_fought(seconds)',\n",
       "       'R_Reach_cms', 'B_age', 'R_age'],\n",
       "      dtype='object', length=104)"
      ]
     },
     "execution_count": 5,
     "metadata": {},
     "output_type": "execute_result"
    }
   ],
   "source": [
    "df.columns[df.isnull().any()]"
   ]
  },
  {
   "cell_type": "markdown",
   "metadata": {},
   "source": [
    "We select R_age for our demonstration. Now we find a few rows that have a missing R_age."
   ]
  },
  {
   "cell_type": "code",
   "execution_count": 6,
   "metadata": {},
   "outputs": [
    {
     "data": {
      "text/html": [
       "<div>\n",
       "<style scoped>\n",
       "    .dataframe tbody tr th:only-of-type {\n",
       "        vertical-align: middle;\n",
       "    }\n",
       "\n",
       "    .dataframe tbody tr th {\n",
       "        vertical-align: top;\n",
       "    }\n",
       "\n",
       "    .dataframe thead th {\n",
       "        text-align: right;\n",
       "    }\n",
       "</style>\n",
       "<table border=\"1\" class=\"dataframe\">\n",
       "  <thead>\n",
       "    <tr style=\"text-align: right;\">\n",
       "      <th></th>\n",
       "      <th>R_fighter</th>\n",
       "      <th>B_fighter</th>\n",
       "      <th>Referee</th>\n",
       "      <th>date</th>\n",
       "      <th>location</th>\n",
       "      <th>Winner</th>\n",
       "      <th>title_bout</th>\n",
       "      <th>weight_class</th>\n",
       "      <th>no_of_rounds</th>\n",
       "      <th>B_current_lose_streak</th>\n",
       "      <th>...</th>\n",
       "      <th>R_win_by_KO/TKO</th>\n",
       "      <th>R_win_by_Submission</th>\n",
       "      <th>R_win_by_TKO_Doctor_Stoppage</th>\n",
       "      <th>R_wins</th>\n",
       "      <th>R_Stance</th>\n",
       "      <th>R_Height_cms</th>\n",
       "      <th>R_Reach_cms</th>\n",
       "      <th>R_Weight_lbs</th>\n",
       "      <th>B_age</th>\n",
       "      <th>R_age</th>\n",
       "    </tr>\n",
       "  </thead>\n",
       "  <tbody>\n",
       "    <tr>\n",
       "      <td>4171</td>\n",
       "      <td>Per Eklund</td>\n",
       "      <td>Samy Schiavo</td>\n",
       "      <td>Leon Roberts</td>\n",
       "      <td>2008-10-18</td>\n",
       "      <td>Birmingham, England, United Kingdom</td>\n",
       "      <td>Red</td>\n",
       "      <td>False</td>\n",
       "      <td>Lightweight</td>\n",
       "      <td>3</td>\n",
       "      <td>1.0</td>\n",
       "      <td>...</td>\n",
       "      <td>0.0</td>\n",
       "      <td>0.0</td>\n",
       "      <td>0.0</td>\n",
       "      <td>0.0</td>\n",
       "      <td>Orthodox</td>\n",
       "      <td>177.80</td>\n",
       "      <td>182.88</td>\n",
       "      <td>155.0</td>\n",
       "      <td>32.0</td>\n",
       "      <td>NaN</td>\n",
       "    </tr>\n",
       "    <tr>\n",
       "      <td>4376</td>\n",
       "      <td>Jess Liaudin</td>\n",
       "      <td>Anthony Torres</td>\n",
       "      <td>Mario Yamasaki</td>\n",
       "      <td>2007-09-08</td>\n",
       "      <td>London, England, United Kingdom</td>\n",
       "      <td>Red</td>\n",
       "      <td>False</td>\n",
       "      <td>Welterweight</td>\n",
       "      <td>3</td>\n",
       "      <td>0.0</td>\n",
       "      <td>...</td>\n",
       "      <td>0.0</td>\n",
       "      <td>1.0</td>\n",
       "      <td>0.0</td>\n",
       "      <td>1.0</td>\n",
       "      <td>Orthodox</td>\n",
       "      <td>175.26</td>\n",
       "      <td>182.88</td>\n",
       "      <td>170.0</td>\n",
       "      <td>29.0</td>\n",
       "      <td>NaN</td>\n",
       "    </tr>\n",
       "    <tr>\n",
       "      <td>4438</td>\n",
       "      <td>Jess Liaudin</td>\n",
       "      <td>Dennis Siver</td>\n",
       "      <td>Steve Mazzagatti</td>\n",
       "      <td>2007-04-21</td>\n",
       "      <td>Manchester, England, United Kingdom</td>\n",
       "      <td>Red</td>\n",
       "      <td>False</td>\n",
       "      <td>Welterweight</td>\n",
       "      <td>3</td>\n",
       "      <td>0.0</td>\n",
       "      <td>...</td>\n",
       "      <td>0.0</td>\n",
       "      <td>0.0</td>\n",
       "      <td>0.0</td>\n",
       "      <td>0.0</td>\n",
       "      <td>Orthodox</td>\n",
       "      <td>175.26</td>\n",
       "      <td>182.88</td>\n",
       "      <td>170.0</td>\n",
       "      <td>28.0</td>\n",
       "      <td>NaN</td>\n",
       "    </tr>\n",
       "    <tr>\n",
       "      <td>4767</td>\n",
       "      <td>Keith Rockel</td>\n",
       "      <td>Chris Liguori</td>\n",
       "      <td>John McCarthy</td>\n",
       "      <td>2003-11-21</td>\n",
       "      <td>Uncasville, Connecticut, USA</td>\n",
       "      <td>Red</td>\n",
       "      <td>False</td>\n",
       "      <td>Middleweight</td>\n",
       "      <td>3</td>\n",
       "      <td>0.0</td>\n",
       "      <td>...</td>\n",
       "      <td>0.0</td>\n",
       "      <td>0.0</td>\n",
       "      <td>0.0</td>\n",
       "      <td>0.0</td>\n",
       "      <td>Orthodox</td>\n",
       "      <td>182.88</td>\n",
       "      <td>NaN</td>\n",
       "      <td>185.0</td>\n",
       "      <td>NaN</td>\n",
       "      <td>NaN</td>\n",
       "    </tr>\n",
       "    <tr>\n",
       "      <td>4908</td>\n",
       "      <td>Ben Earwood</td>\n",
       "      <td>Chris Lytle</td>\n",
       "      <td>Mario Yamasaki</td>\n",
       "      <td>2000-11-17</td>\n",
       "      <td>Atlantic City, New Jersey, USA</td>\n",
       "      <td>Red</td>\n",
       "      <td>False</td>\n",
       "      <td>Welterweight</td>\n",
       "      <td>2</td>\n",
       "      <td>0.0</td>\n",
       "      <td>...</td>\n",
       "      <td>0.0</td>\n",
       "      <td>0.0</td>\n",
       "      <td>0.0</td>\n",
       "      <td>0.0</td>\n",
       "      <td>Orthodox</td>\n",
       "      <td>172.72</td>\n",
       "      <td>NaN</td>\n",
       "      <td>170.0</td>\n",
       "      <td>26.0</td>\n",
       "      <td>NaN</td>\n",
       "    </tr>\n",
       "  </tbody>\n",
       "</table>\n",
       "<p>5 rows × 145 columns</p>\n",
       "</div>"
      ],
      "text/plain": [
       "         R_fighter       B_fighter           Referee        date  \\\n",
       "4171    Per Eklund    Samy Schiavo      Leon Roberts  2008-10-18   \n",
       "4376  Jess Liaudin  Anthony Torres    Mario Yamasaki  2007-09-08   \n",
       "4438  Jess Liaudin    Dennis Siver  Steve Mazzagatti  2007-04-21   \n",
       "4767  Keith Rockel   Chris Liguori     John McCarthy  2003-11-21   \n",
       "4908   Ben Earwood     Chris Lytle    Mario Yamasaki  2000-11-17   \n",
       "\n",
       "                                 location Winner  title_bout  weight_class  \\\n",
       "4171  Birmingham, England, United Kingdom    Red       False   Lightweight   \n",
       "4376      London, England, United Kingdom    Red       False  Welterweight   \n",
       "4438  Manchester, England, United Kingdom    Red       False  Welterweight   \n",
       "4767         Uncasville, Connecticut, USA    Red       False  Middleweight   \n",
       "4908       Atlantic City, New Jersey, USA    Red       False  Welterweight   \n",
       "\n",
       "      no_of_rounds  B_current_lose_streak  ...  R_win_by_KO/TKO  \\\n",
       "4171             3                    1.0  ...              0.0   \n",
       "4376             3                    0.0  ...              0.0   \n",
       "4438             3                    0.0  ...              0.0   \n",
       "4767             3                    0.0  ...              0.0   \n",
       "4908             2                    0.0  ...              0.0   \n",
       "\n",
       "      R_win_by_Submission  R_win_by_TKO_Doctor_Stoppage  R_wins  R_Stance  \\\n",
       "4171                  0.0                           0.0     0.0  Orthodox   \n",
       "4376                  1.0                           0.0     1.0  Orthodox   \n",
       "4438                  0.0                           0.0     0.0  Orthodox   \n",
       "4767                  0.0                           0.0     0.0  Orthodox   \n",
       "4908                  0.0                           0.0     0.0  Orthodox   \n",
       "\n",
       "      R_Height_cms  R_Reach_cms  R_Weight_lbs  B_age  R_age  \n",
       "4171        177.80       182.88         155.0   32.0    NaN  \n",
       "4376        175.26       182.88         170.0   29.0    NaN  \n",
       "4438        175.26       182.88         170.0   28.0    NaN  \n",
       "4767        182.88          NaN         185.0    NaN    NaN  \n",
       "4908        172.72          NaN         170.0   26.0    NaN  \n",
       "\n",
       "[5 rows x 145 columns]"
      ]
     },
     "execution_count": 6,
     "metadata": {},
     "output_type": "execute_result"
    }
   ],
   "source": [
    "people = df[df['R_age'].isnull()].head(5)\n",
    "people"
   ]
  },
  {
   "cell_type": "markdown",
   "metadata": {},
   "source": [
    "Now we find the median for that column."
   ]
  },
  {
   "cell_type": "code",
   "execution_count": 7,
   "metadata": {},
   "outputs": [
    {
     "data": {
      "text/plain": [
       "29.0"
      ]
     },
     "execution_count": 7,
     "metadata": {},
     "output_type": "execute_result"
    }
   ],
   "source": [
    "df['R_age'].median()"
   ]
  },
  {
   "cell_type": "markdown",
   "metadata": {},
   "source": [
    "Now we apply fillna to the entire dataset, and show that the column is filled in with the median."
   ]
  },
  {
   "cell_type": "code",
   "execution_count": 8,
   "metadata": {},
   "outputs": [
    {
     "data": {
      "text/html": [
       "<div>\n",
       "<style scoped>\n",
       "    .dataframe tbody tr th:only-of-type {\n",
       "        vertical-align: middle;\n",
       "    }\n",
       "\n",
       "    .dataframe tbody tr th {\n",
       "        vertical-align: top;\n",
       "    }\n",
       "\n",
       "    .dataframe thead th {\n",
       "        text-align: right;\n",
       "    }\n",
       "</style>\n",
       "<table border=\"1\" class=\"dataframe\">\n",
       "  <thead>\n",
       "    <tr style=\"text-align: right;\">\n",
       "      <th></th>\n",
       "      <th>R_fighter</th>\n",
       "      <th>B_fighter</th>\n",
       "      <th>Referee</th>\n",
       "      <th>date</th>\n",
       "      <th>location</th>\n",
       "      <th>Winner</th>\n",
       "      <th>title_bout</th>\n",
       "      <th>weight_class</th>\n",
       "      <th>no_of_rounds</th>\n",
       "      <th>B_current_lose_streak</th>\n",
       "      <th>...</th>\n",
       "      <th>R_win_by_KO/TKO</th>\n",
       "      <th>R_win_by_Submission</th>\n",
       "      <th>R_win_by_TKO_Doctor_Stoppage</th>\n",
       "      <th>R_wins</th>\n",
       "      <th>R_Stance</th>\n",
       "      <th>R_Height_cms</th>\n",
       "      <th>R_Reach_cms</th>\n",
       "      <th>R_Weight_lbs</th>\n",
       "      <th>B_age</th>\n",
       "      <th>R_age</th>\n",
       "    </tr>\n",
       "  </thead>\n",
       "  <tbody>\n",
       "    <tr>\n",
       "      <td>4171</td>\n",
       "      <td>Per Eklund</td>\n",
       "      <td>Samy Schiavo</td>\n",
       "      <td>Leon Roberts</td>\n",
       "      <td>2008-10-18</td>\n",
       "      <td>Birmingham, England, United Kingdom</td>\n",
       "      <td>Red</td>\n",
       "      <td>False</td>\n",
       "      <td>Lightweight</td>\n",
       "      <td>3</td>\n",
       "      <td>1.0</td>\n",
       "      <td>...</td>\n",
       "      <td>0.0</td>\n",
       "      <td>0.0</td>\n",
       "      <td>0.0</td>\n",
       "      <td>0.0</td>\n",
       "      <td>Orthodox</td>\n",
       "      <td>177.80</td>\n",
       "      <td>182.88</td>\n",
       "      <td>155.0</td>\n",
       "      <td>32.0</td>\n",
       "      <td>29.0</td>\n",
       "    </tr>\n",
       "    <tr>\n",
       "      <td>4376</td>\n",
       "      <td>Jess Liaudin</td>\n",
       "      <td>Anthony Torres</td>\n",
       "      <td>Mario Yamasaki</td>\n",
       "      <td>2007-09-08</td>\n",
       "      <td>London, England, United Kingdom</td>\n",
       "      <td>Red</td>\n",
       "      <td>False</td>\n",
       "      <td>Welterweight</td>\n",
       "      <td>3</td>\n",
       "      <td>0.0</td>\n",
       "      <td>...</td>\n",
       "      <td>0.0</td>\n",
       "      <td>1.0</td>\n",
       "      <td>0.0</td>\n",
       "      <td>1.0</td>\n",
       "      <td>Orthodox</td>\n",
       "      <td>175.26</td>\n",
       "      <td>182.88</td>\n",
       "      <td>170.0</td>\n",
       "      <td>29.0</td>\n",
       "      <td>29.0</td>\n",
       "    </tr>\n",
       "    <tr>\n",
       "      <td>4438</td>\n",
       "      <td>Jess Liaudin</td>\n",
       "      <td>Dennis Siver</td>\n",
       "      <td>Steve Mazzagatti</td>\n",
       "      <td>2007-04-21</td>\n",
       "      <td>Manchester, England, United Kingdom</td>\n",
       "      <td>Red</td>\n",
       "      <td>False</td>\n",
       "      <td>Welterweight</td>\n",
       "      <td>3</td>\n",
       "      <td>0.0</td>\n",
       "      <td>...</td>\n",
       "      <td>0.0</td>\n",
       "      <td>0.0</td>\n",
       "      <td>0.0</td>\n",
       "      <td>0.0</td>\n",
       "      <td>Orthodox</td>\n",
       "      <td>175.26</td>\n",
       "      <td>182.88</td>\n",
       "      <td>170.0</td>\n",
       "      <td>28.0</td>\n",
       "      <td>29.0</td>\n",
       "    </tr>\n",
       "    <tr>\n",
       "      <td>4767</td>\n",
       "      <td>Keith Rockel</td>\n",
       "      <td>Chris Liguori</td>\n",
       "      <td>John McCarthy</td>\n",
       "      <td>2003-11-21</td>\n",
       "      <td>Uncasville, Connecticut, USA</td>\n",
       "      <td>Red</td>\n",
       "      <td>False</td>\n",
       "      <td>Middleweight</td>\n",
       "      <td>3</td>\n",
       "      <td>0.0</td>\n",
       "      <td>...</td>\n",
       "      <td>0.0</td>\n",
       "      <td>0.0</td>\n",
       "      <td>0.0</td>\n",
       "      <td>0.0</td>\n",
       "      <td>Orthodox</td>\n",
       "      <td>182.88</td>\n",
       "      <td>185.42</td>\n",
       "      <td>185.0</td>\n",
       "      <td>29.0</td>\n",
       "      <td>29.0</td>\n",
       "    </tr>\n",
       "    <tr>\n",
       "      <td>4908</td>\n",
       "      <td>Ben Earwood</td>\n",
       "      <td>Chris Lytle</td>\n",
       "      <td>Mario Yamasaki</td>\n",
       "      <td>2000-11-17</td>\n",
       "      <td>Atlantic City, New Jersey, USA</td>\n",
       "      <td>Red</td>\n",
       "      <td>False</td>\n",
       "      <td>Welterweight</td>\n",
       "      <td>2</td>\n",
       "      <td>0.0</td>\n",
       "      <td>...</td>\n",
       "      <td>0.0</td>\n",
       "      <td>0.0</td>\n",
       "      <td>0.0</td>\n",
       "      <td>0.0</td>\n",
       "      <td>Orthodox</td>\n",
       "      <td>172.72</td>\n",
       "      <td>185.42</td>\n",
       "      <td>170.0</td>\n",
       "      <td>26.0</td>\n",
       "      <td>29.0</td>\n",
       "    </tr>\n",
       "  </tbody>\n",
       "</table>\n",
       "<p>5 rows × 145 columns</p>\n",
       "</div>"
      ],
      "text/plain": [
       "         R_fighter       B_fighter           Referee        date  \\\n",
       "4171    Per Eklund    Samy Schiavo      Leon Roberts  2008-10-18   \n",
       "4376  Jess Liaudin  Anthony Torres    Mario Yamasaki  2007-09-08   \n",
       "4438  Jess Liaudin    Dennis Siver  Steve Mazzagatti  2007-04-21   \n",
       "4767  Keith Rockel   Chris Liguori     John McCarthy  2003-11-21   \n",
       "4908   Ben Earwood     Chris Lytle    Mario Yamasaki  2000-11-17   \n",
       "\n",
       "                                 location Winner  title_bout  weight_class  \\\n",
       "4171  Birmingham, England, United Kingdom    Red       False   Lightweight   \n",
       "4376      London, England, United Kingdom    Red       False  Welterweight   \n",
       "4438  Manchester, England, United Kingdom    Red       False  Welterweight   \n",
       "4767         Uncasville, Connecticut, USA    Red       False  Middleweight   \n",
       "4908       Atlantic City, New Jersey, USA    Red       False  Welterweight   \n",
       "\n",
       "      no_of_rounds  B_current_lose_streak  ...  R_win_by_KO/TKO  \\\n",
       "4171             3                    1.0  ...              0.0   \n",
       "4376             3                    0.0  ...              0.0   \n",
       "4438             3                    0.0  ...              0.0   \n",
       "4767             3                    0.0  ...              0.0   \n",
       "4908             2                    0.0  ...              0.0   \n",
       "\n",
       "      R_win_by_Submission  R_win_by_TKO_Doctor_Stoppage  R_wins  R_Stance  \\\n",
       "4171                  0.0                           0.0     0.0  Orthodox   \n",
       "4376                  1.0                           0.0     1.0  Orthodox   \n",
       "4438                  0.0                           0.0     0.0  Orthodox   \n",
       "4767                  0.0                           0.0     0.0  Orthodox   \n",
       "4908                  0.0                           0.0     0.0  Orthodox   \n",
       "\n",
       "      R_Height_cms  R_Reach_cms  R_Weight_lbs  B_age  R_age  \n",
       "4171        177.80       182.88         155.0   32.0   29.0  \n",
       "4376        175.26       182.88         170.0   29.0   29.0  \n",
       "4438        175.26       182.88         170.0   28.0   29.0  \n",
       "4767        182.88       185.42         185.0   29.0   29.0  \n",
       "4908        172.72       185.42         170.0   26.0   29.0  \n",
       "\n",
       "[5 rows x 145 columns]"
      ]
     },
     "execution_count": 8,
     "metadata": {},
     "output_type": "execute_result"
    }
   ],
   "source": [
    "df = df.fillna(df.median())\n",
    "df.loc[people.index.tolist()]"
   ]
  },
  {
   "cell_type": "markdown",
   "metadata": {},
   "source": [
    "### Dimensionality Reduction-PCA ### "
   ]
  },
  {
   "cell_type": "markdown",
   "metadata": {},
   "source": [
    "We apply dimensionality reduction to obtain an ordered list of components that account for the largest variance in the data set and ultimately group similar fighters based on their fighting styles\n",
    "\n"
   ]
  },
  {
   "cell_type": "code",
   "execution_count": 9,
   "metadata": {},
   "outputs": [],
   "source": [
    "df_new=df.drop(columns=[\"R_fighter\",\"B_fighter\",\"Referee\",\"date\",\"location\",\"Winner\",\"title_bout\",\"weight_class\",\"B_Stance\",\"R_Stance\"])\n",
    "#pd.set_option('display.max_rows', 999)\n"
   ]
  },
  {
   "cell_type": "code",
   "execution_count": 10,
   "metadata": {},
   "outputs": [
    {
     "name": "stdout",
     "output_type": "stream",
     "text": [
      "[0.48580999 0.3601545  0.04796335 0.03418453 0.01828115 0.01379265\n",
      " 0.01128048 0.00454691]\n"
     ]
    }
   ],
   "source": [
    "from sklearn import (cluster, datasets, decomposition, ensemble, manifold, random_projection)\n",
    "\n",
    "pca = decomposition.PCA(n_components=8)\n",
    "X_pca=pca.fit_transform(df_new)\n",
    "X_pca\n",
    "print(pca.explained_variance_ratio_)\n"
   ]
  },
  {
   "cell_type": "code",
   "execution_count": 11,
   "metadata": {},
   "outputs": [
    {
     "data": {
      "text/plain": [
       "4865"
      ]
     },
     "execution_count": 11,
     "metadata": {},
     "output_type": "execute_result"
    }
   ],
   "source": [
    "len(X_pca)"
   ]
  },
  {
   "cell_type": "code",
   "execution_count": 12,
   "metadata": {},
   "outputs": [
    {
     "data": {
      "text/plain": [
       "Text(0.5, 1.0, 'Scree Plot for the UFC Dataset')"
      ]
     },
     "execution_count": 12,
     "metadata": {},
     "output_type": "execute_result"
    }
   ],
   "source": [
    "import numpy as np\n",
    "import pylab as pl\n",
    "from sklearn.discriminant_analysis import LinearDiscriminantAnalysis\n",
    "from mpl_toolkits.mplot3d import Axes3D \n",
    "# Generate scree plot\n",
    "\n",
    "N = 8\n",
    "ind = np.arange(N)  # the x locations for the groups\n",
    "\n",
    "vals = [0.48580999,\n",
    "        0.3601545,\n",
    "        0.04796335,\n",
    "        0.03418453,\n",
    "        0.01828115,\n",
    "        0.01379265,\n",
    "        0.01128048, \n",
    "        0.00454691]\n",
    "\n",
    "\n",
    "pl.figure(figsize=(10, 6), dpi=250)\n",
    "ax = pl.subplot(111)\n",
    "ax.bar(ind, pca.explained_variance_ratio_, 0.35, \n",
    "       color=[(0.949, 0.718, 0.004),\n",
    "              (0.898, 0.49, 0.016),\n",
    "              (0.863, 0, 0.188),\n",
    "              (0.694, 0, 0.345),\n",
    "              (0.486, 0.216, 0.541),\n",
    "              (0.204, 0.396, 0.667),\n",
    "              (0.035, 0.635, 0.459),\n",
    "              (0.486, 0.722, 0.329),\n",
    "             ])\n",
    "\n",
    "ax.annotate(r\"%d%%\" % (int(vals[0]*100)), (ind[0]+0.2, vals[0]), va=\"bottom\", ha=\"center\", fontsize=12)\n",
    "ax.annotate(r\"%d%%\" % (int(vals[1]*100)), (ind[1]+0.2, vals[1]), va=\"bottom\", ha=\"center\", fontsize=12)\n",
    "ax.annotate(r\"%d%%\" % (int(vals[2]*100)), (ind[2]+0.2, vals[2]), va=\"bottom\", ha=\"center\", fontsize=12)\n",
    "ax.annotate(r\"%d%%\" % (int(vals[3]*100)), (ind[3]+0.2, vals[3]), va=\"bottom\", ha=\"center\", fontsize=12)\n",
    "ax.annotate(r\"%d%%\" % (int(vals[4]*100)), (ind[4]+0.2, vals[4]), va=\"bottom\", ha=\"center\", fontsize=12)\n",
    "ax.annotate(r\"%d%%\" % (int(vals[5]*100)), (ind[5]+0.2, vals[5]), va=\"bottom\", ha=\"center\", fontsize=12)\n",
    "ax.annotate(r\"%s%%\" % ((str(vals[6]*100)[:4 + (0-1)])), (ind[6]+0.2, vals[6]), va=\"bottom\", ha=\"center\", fontsize=12)\n",
    "ax.annotate(r\"%s%%\" % ((str(vals[7]*100)[:4 + (0-1)])), (ind[7]+0.2, vals[7]), va=\"bottom\", ha=\"center\", fontsize=12)\n",
    "\n",
    "ax.set_xticklabels(('       0',\n",
    "                    '       1',\n",
    "                    '       2',\n",
    "                    '       3',\n",
    "                    '       4',\n",
    "                    '       5',\n",
    "                    '       6',\n",
    "                    '       7',\n",
    "                    '       8'), \n",
    "                   fontsize=12)\n",
    "ax.set_yticklabels(('0.00', '0.05', '0.10', '0.15', '0.20', '0.25','0.35','0.45','0.55'), fontsize=12)\n",
    "ax.set_ylim(0, .55)\n",
    "ax.set_xlim(0-0.45, 8+0.45)\n",
    "\n",
    "ax.xaxis.set_tick_params(width=0)\n",
    "ax.yaxis.set_tick_params(width=2, length=12)\n",
    "\n",
    "ax.set_xlabel(\"Principal Component\", fontsize=12)\n",
    "ax.set_ylabel(\"Variance Explained (%)\", fontsize=12)\n",
    "\n",
    "pl.title(\"Scree Plot for the UFC Dataset\", fontsize=16)"
   ]
  },
  {
   "cell_type": "code",
   "execution_count": 13,
   "metadata": {},
   "outputs": [],
   "source": [
    "\n",
    "pca_new = decomposition.PCA(n_components=2)\n",
    "X_pca_new = pca_new.fit_transform(df_new)\n",
    "#X_pca_new\n",
    "\n",
    "principalDf = pd.DataFrame(data = X_pca_new\n",
    "             , columns = ['principal component 1', 'principal component 2'])\n"
   ]
  },
  {
   "cell_type": "code",
   "execution_count": 14,
   "metadata": {},
   "outputs": [],
   "source": [
    "pd.set_option('display.max_rows', 6000)\n",
    "pd.set_option('display.max_columns', 6000)\n",
    "finalDf = pd.concat([principalDf, df[['R_fighter','B_fighter','Winner']]], axis = 1)\n"
   ]
  },
  {
   "cell_type": "markdown",
   "metadata": {},
   "source": [
    "Next we are going to compare fighters based on those PCA components above"
   ]
  },
  {
   "cell_type": "code",
   "execution_count": 15,
   "metadata": {},
   "outputs": [],
   "source": [
    "df_group_R_fighter=finalDf.groupby(['R_fighter'])\n"
   ]
  },
  {
   "cell_type": "code",
   "execution_count": 16,
   "metadata": {},
   "outputs": [
    {
     "data": {
      "text/plain": [
       "0        37.893370\n",
       "210      15.466030\n",
       "733    -199.771718\n",
       "860     -94.833698\n",
       "1902    -72.291558\n",
       "2136    244.342714\n",
       "Name: principal component 1, dtype: float64"
      ]
     },
     "execution_count": 16,
     "metadata": {},
     "output_type": "execute_result"
    }
   ],
   "source": [
    "Henry_Cejudo_R_fighter=df_group_R_fighter.get_group('Henry Cejudo')\n",
    "Henry_Cejudo_R_fighter_scatter1=Henry_Cejudo_R_fighter[\"principal component 1\"]\n",
    "Henry_Cejudo_R_fighter_scatter1"
   ]
  },
  {
   "cell_type": "code",
   "execution_count": 17,
   "metadata": {},
   "outputs": [
    {
     "data": {
      "text/plain": [
       "0       235.715566\n",
       "210    -208.352095\n",
       "733     -67.479411\n",
       "860     116.257017\n",
       "1902   -147.347748\n",
       "2136     -9.871055\n",
       "Name: principal component 2, dtype: float64"
      ]
     },
     "execution_count": 17,
     "metadata": {},
     "output_type": "execute_result"
    }
   ],
   "source": [
    "df_group_B_fighter=finalDf.groupby(['B_fighter'])\n",
    "Henry_Cejudo_B_fighter=df_group_B_fighter.get_group('Henry Cejudo')\n",
    "Henry_Cejudo_B_fighter\n",
    "Henry_Cejudo_B_fighter_scatter2=Henry_Cejudo_R_fighter[\"principal component 2\"]\n",
    "Henry_Cejudo_B_fighter_scatter2"
   ]
  },
  {
   "cell_type": "code",
   "execution_count": 18,
   "metadata": {},
   "outputs": [
    {
     "data": {
      "text/plain": [
       "0        37.893370\n",
       "210      15.466030\n",
       "733    -199.771718\n",
       "860     -94.833698\n",
       "1902    -72.291558\n",
       "2136    244.342714\n",
       "0       235.715566\n",
       "210    -208.352095\n",
       "733     -67.479411\n",
       "860     116.257017\n",
       "1902   -147.347748\n",
       "2136     -9.871055\n",
       "dtype: float64"
      ]
     },
     "execution_count": 18,
     "metadata": {},
     "output_type": "execute_result"
    }
   ],
   "source": [
    "frames_Henry_Cejudo_scatter = [Henry_Cejudo_R_fighter_scatter1, Henry_Cejudo_B_fighter_scatter2]\n",
    "\n",
    "result_Henry_Cejudo_scatter=pd.concat(frames_Henry_Cejudo_scatter)\n",
    "result_Henry_Cejudo_scatter"
   ]
  },
  {
   "cell_type": "code",
   "execution_count": 19,
   "metadata": {},
   "outputs": [
    {
     "data": {
      "text/html": [
       "<div>\n",
       "<style scoped>\n",
       "    .dataframe tbody tr th:only-of-type {\n",
       "        vertical-align: middle;\n",
       "    }\n",
       "\n",
       "    .dataframe tbody tr th {\n",
       "        vertical-align: top;\n",
       "    }\n",
       "\n",
       "    .dataframe thead th {\n",
       "        text-align: right;\n",
       "    }\n",
       "</style>\n",
       "<table border=\"1\" class=\"dataframe\">\n",
       "  <thead>\n",
       "    <tr style=\"text-align: right;\">\n",
       "      <th></th>\n",
       "      <th>principal component 1</th>\n",
       "      <th>principal component 2</th>\n",
       "      <th>R_fighter</th>\n",
       "      <th>B_fighter</th>\n",
       "      <th>Winner</th>\n",
       "    </tr>\n",
       "  </thead>\n",
       "  <tbody>\n",
       "    <tr>\n",
       "      <td>0</td>\n",
       "      <td>37.893370</td>\n",
       "      <td>235.715566</td>\n",
       "      <td>Henry Cejudo</td>\n",
       "      <td>Marlon Moraes</td>\n",
       "      <td>Red</td>\n",
       "    </tr>\n",
       "    <tr>\n",
       "      <td>210</td>\n",
       "      <td>15.466030</td>\n",
       "      <td>-208.352095</td>\n",
       "      <td>Henry Cejudo</td>\n",
       "      <td>TJ Dillashaw</td>\n",
       "      <td>Red</td>\n",
       "    </tr>\n",
       "    <tr>\n",
       "      <td>733</td>\n",
       "      <td>-199.771718</td>\n",
       "      <td>-67.479411</td>\n",
       "      <td>Henry Cejudo</td>\n",
       "      <td>Sergio Pettis</td>\n",
       "      <td>Red</td>\n",
       "    </tr>\n",
       "    <tr>\n",
       "      <td>860</td>\n",
       "      <td>-94.833698</td>\n",
       "      <td>116.257017</td>\n",
       "      <td>Henry Cejudo</td>\n",
       "      <td>Wilson Reis</td>\n",
       "      <td>Red</td>\n",
       "    </tr>\n",
       "    <tr>\n",
       "      <td>1902</td>\n",
       "      <td>-72.291558</td>\n",
       "      <td>-147.347748</td>\n",
       "      <td>Henry Cejudo</td>\n",
       "      <td>Chico Camus</td>\n",
       "      <td>Red</td>\n",
       "    </tr>\n",
       "    <tr>\n",
       "      <td>2136</td>\n",
       "      <td>244.342714</td>\n",
       "      <td>-9.871055</td>\n",
       "      <td>Henry Cejudo</td>\n",
       "      <td>Dustin Kimura</td>\n",
       "      <td>Red</td>\n",
       "    </tr>\n",
       "    <tr>\n",
       "      <td>412</td>\n",
       "      <td>243.383734</td>\n",
       "      <td>-224.767191</td>\n",
       "      <td>Demetrious Johnson</td>\n",
       "      <td>Henry Cejudo</td>\n",
       "      <td>Blue</td>\n",
       "    </tr>\n",
       "    <tr>\n",
       "      <td>1196</td>\n",
       "      <td>-173.934429</td>\n",
       "      <td>-264.471902</td>\n",
       "      <td>Joseph Benavidez</td>\n",
       "      <td>Henry Cejudo</td>\n",
       "      <td>Red</td>\n",
       "    </tr>\n",
       "    <tr>\n",
       "      <td>1506</td>\n",
       "      <td>-142.169259</td>\n",
       "      <td>18.861947</td>\n",
       "      <td>Demetrious Johnson</td>\n",
       "      <td>Henry Cejudo</td>\n",
       "      <td>Red</td>\n",
       "    </tr>\n",
       "    <tr>\n",
       "      <td>1701</td>\n",
       "      <td>-58.892063</td>\n",
       "      <td>-90.738052</td>\n",
       "      <td>Jussier Formiga</td>\n",
       "      <td>Henry Cejudo</td>\n",
       "      <td>Blue</td>\n",
       "    </tr>\n",
       "    <tr>\n",
       "      <td>2028</td>\n",
       "      <td>209.979113</td>\n",
       "      <td>145.297702</td>\n",
       "      <td>Chris Cariaso</td>\n",
       "      <td>Henry Cejudo</td>\n",
       "      <td>Blue</td>\n",
       "    </tr>\n",
       "  </tbody>\n",
       "</table>\n",
       "</div>"
      ],
      "text/plain": [
       "      principal component 1  principal component 2           R_fighter  \\\n",
       "0                 37.893370             235.715566        Henry Cejudo   \n",
       "210               15.466030            -208.352095        Henry Cejudo   \n",
       "733             -199.771718             -67.479411        Henry Cejudo   \n",
       "860              -94.833698             116.257017        Henry Cejudo   \n",
       "1902             -72.291558            -147.347748        Henry Cejudo   \n",
       "2136             244.342714              -9.871055        Henry Cejudo   \n",
       "412              243.383734            -224.767191  Demetrious Johnson   \n",
       "1196            -173.934429            -264.471902    Joseph Benavidez   \n",
       "1506            -142.169259              18.861947  Demetrious Johnson   \n",
       "1701             -58.892063             -90.738052     Jussier Formiga   \n",
       "2028             209.979113             145.297702       Chris Cariaso   \n",
       "\n",
       "          B_fighter Winner  \n",
       "0     Marlon Moraes    Red  \n",
       "210    TJ Dillashaw    Red  \n",
       "733   Sergio Pettis    Red  \n",
       "860     Wilson Reis    Red  \n",
       "1902    Chico Camus    Red  \n",
       "2136  Dustin Kimura    Red  \n",
       "412    Henry Cejudo   Blue  \n",
       "1196   Henry Cejudo    Red  \n",
       "1506   Henry Cejudo    Red  \n",
       "1701   Henry Cejudo   Blue  \n",
       "2028   Henry Cejudo   Blue  "
      ]
     },
     "execution_count": 19,
     "metadata": {},
     "output_type": "execute_result"
    }
   ],
   "source": [
    "frames_Henry_Cejudo = [Henry_Cejudo_R_fighter, Henry_Cejudo_B_fighter]\n",
    "result_Henry_Cejudo = pd.concat(frames_Henry_Cejudo)\n",
    "result_Henry_Cejudo"
   ]
  },
  {
   "cell_type": "code",
   "execution_count": 20,
   "metadata": {},
   "outputs": [
    {
     "data": {
      "text/plain": [
       "720    151.987272\n",
       "Name: principal component 1, dtype: float64"
      ]
     },
     "execution_count": 20,
     "metadata": {},
     "output_type": "execute_result"
    }
   ],
   "source": [
    "Marlon_Moraes_R_fighter=df_group_R_fighter.get_group('Marlon Moraes')\n",
    "Marlon_Moraes_R_fighter_scatter1=Marlon_Moraes_R_fighter[\"principal component 1\"]\n",
    "Marlon_Moraes_R_fighter_scatter1"
   ]
  },
  {
   "cell_type": "code",
   "execution_count": 21,
   "metadata": {},
   "outputs": [
    {
     "data": {
      "text/plain": [
       "0      235.715566\n",
       "197    162.154859\n",
       "511   -284.086602\n",
       "786    -40.301227\n",
       "989     -2.264856\n",
       "Name: principal component 2, dtype: float64"
      ]
     },
     "execution_count": 21,
     "metadata": {},
     "output_type": "execute_result"
    }
   ],
   "source": [
    "Marlon_Moraes_B_fighter=df_group_B_fighter.get_group('Marlon Moraes')\n",
    "Marlon_Moraes_B_fighter_scatter2=Marlon_Moraes_B_fighter[\"principal component 2\"]\n",
    "Marlon_Moraes_B_fighter_scatter2"
   ]
  },
  {
   "cell_type": "code",
   "execution_count": 22,
   "metadata": {},
   "outputs": [
    {
     "data": {
      "text/plain": [
       "720    151.987272\n",
       "0      235.715566\n",
       "197    162.154859\n",
       "511   -284.086602\n",
       "786    -40.301227\n",
       "989     -2.264856\n",
       "dtype: float64"
      ]
     },
     "execution_count": 22,
     "metadata": {},
     "output_type": "execute_result"
    }
   ],
   "source": [
    "frames_Marlon_Moraes_scatter = [Marlon_Moraes_R_fighter_scatter1, Marlon_Moraes_B_fighter_scatter2]\n",
    "\n",
    "result_Marlon_Moraes_scatter=pd.concat(frames_Marlon_Moraes_scatter)\n",
    "result_Marlon_Moraes_scatter"
   ]
  },
  {
   "cell_type": "code",
   "execution_count": 23,
   "metadata": {},
   "outputs": [
    {
     "data": {
      "text/html": [
       "<div>\n",
       "<style scoped>\n",
       "    .dataframe tbody tr th:only-of-type {\n",
       "        vertical-align: middle;\n",
       "    }\n",
       "\n",
       "    .dataframe tbody tr th {\n",
       "        vertical-align: top;\n",
       "    }\n",
       "\n",
       "    .dataframe thead th {\n",
       "        text-align: right;\n",
       "    }\n",
       "</style>\n",
       "<table border=\"1\" class=\"dataframe\">\n",
       "  <thead>\n",
       "    <tr style=\"text-align: right;\">\n",
       "      <th></th>\n",
       "      <th>principal component 1</th>\n",
       "      <th>principal component 2</th>\n",
       "      <th>R_fighter</th>\n",
       "      <th>B_fighter</th>\n",
       "      <th>Winner</th>\n",
       "    </tr>\n",
       "  </thead>\n",
       "  <tbody>\n",
       "    <tr>\n",
       "      <td>720</td>\n",
       "      <td>151.987272</td>\n",
       "      <td>59.028323</td>\n",
       "      <td>Marlon Moraes</td>\n",
       "      <td>Aljamain Sterling</td>\n",
       "      <td>Red</td>\n",
       "    </tr>\n",
       "    <tr>\n",
       "      <td>0</td>\n",
       "      <td>37.893370</td>\n",
       "      <td>235.715566</td>\n",
       "      <td>Henry Cejudo</td>\n",
       "      <td>Marlon Moraes</td>\n",
       "      <td>Red</td>\n",
       "    </tr>\n",
       "    <tr>\n",
       "      <td>197</td>\n",
       "      <td>51.707269</td>\n",
       "      <td>162.154859</td>\n",
       "      <td>Raphael Assuncao</td>\n",
       "      <td>Marlon Moraes</td>\n",
       "      <td>Blue</td>\n",
       "    </tr>\n",
       "    <tr>\n",
       "      <td>511</td>\n",
       "      <td>101.130653</td>\n",
       "      <td>-284.086602</td>\n",
       "      <td>Jimmie Rivera</td>\n",
       "      <td>Marlon Moraes</td>\n",
       "      <td>Blue</td>\n",
       "    </tr>\n",
       "    <tr>\n",
       "      <td>786</td>\n",
       "      <td>263.417919</td>\n",
       "      <td>-40.301227</td>\n",
       "      <td>John Dodson</td>\n",
       "      <td>Marlon Moraes</td>\n",
       "      <td>Blue</td>\n",
       "    </tr>\n",
       "    <tr>\n",
       "      <td>989</td>\n",
       "      <td>112.994056</td>\n",
       "      <td>-2.264856</td>\n",
       "      <td>Raphael Assuncao</td>\n",
       "      <td>Marlon Moraes</td>\n",
       "      <td>Red</td>\n",
       "    </tr>\n",
       "  </tbody>\n",
       "</table>\n",
       "</div>"
      ],
      "text/plain": [
       "     principal component 1  principal component 2         R_fighter  \\\n",
       "720             151.987272              59.028323     Marlon Moraes   \n",
       "0                37.893370             235.715566      Henry Cejudo   \n",
       "197              51.707269             162.154859  Raphael Assuncao   \n",
       "511             101.130653            -284.086602     Jimmie Rivera   \n",
       "786             263.417919             -40.301227       John Dodson   \n",
       "989             112.994056              -2.264856  Raphael Assuncao   \n",
       "\n",
       "             B_fighter Winner  \n",
       "720  Aljamain Sterling    Red  \n",
       "0        Marlon Moraes    Red  \n",
       "197      Marlon Moraes   Blue  \n",
       "511      Marlon Moraes   Blue  \n",
       "786      Marlon Moraes   Blue  \n",
       "989      Marlon Moraes    Red  "
      ]
     },
     "execution_count": 23,
     "metadata": {},
     "output_type": "execute_result"
    }
   ],
   "source": [
    "frames_Marlon_Moraes = [Marlon_Moraes_R_fighter, Marlon_Moraes_B_fighter]\n",
    "result_Marlon_Moraes = pd.concat(frames_Marlon_Moraes)\n",
    "result_Marlon_Moraes"
   ]
  },
  {
   "cell_type": "code",
   "execution_count": 24,
   "metadata": {},
   "outputs": [
    {
     "data": {
      "text/plain": [
       "array([  37.89337032,   15.46603007, -199.77171773,  -94.83369831,\n",
       "        -72.29155814,  244.34271416,  243.38373448, -173.93442916,\n",
       "       -142.16925925,  -58.89206303,  209.97911267])"
      ]
     },
     "execution_count": 24,
     "metadata": {},
     "output_type": "execute_result"
    }
   ],
   "source": [
    "z=result_Henry_Cejudo[\"principal component 1\"]\n",
    "d=result_Marlon_Moraes[\"principal component 1\"]\n",
    "z.values\n"
   ]
  },
  {
   "cell_type": "code",
   "execution_count": 25,
   "metadata": {},
   "outputs": [
    {
     "data": {
      "text/plain": [
       "array([151.98727203,  37.89337032,  51.7072687 , 101.13065348,\n",
       "       263.41791936, 112.9940558 ])"
      ]
     },
     "execution_count": 25,
     "metadata": {},
     "output_type": "execute_result"
    }
   ],
   "source": [
    "d.values"
   ]
  },
  {
   "cell_type": "code",
   "execution_count": 26,
   "metadata": {},
   "outputs": [
    {
     "data": {
      "text/plain": [
       "0        37.893370\n",
       "210      15.466030\n",
       "733    -199.771718\n",
       "860     -94.833698\n",
       "1902    -72.291558\n",
       "2136    244.342714\n",
       "0       235.715566\n",
       "210    -208.352095\n",
       "733     -67.479411\n",
       "860     116.257017\n",
       "1902   -147.347748\n",
       "2136     -9.871055\n",
       "dtype: float64"
      ]
     },
     "execution_count": 26,
     "metadata": {},
     "output_type": "execute_result"
    }
   ],
   "source": [
    "result_Henry_Cejudo_scatter"
   ]
  },
  {
   "cell_type": "code",
   "execution_count": 27,
   "metadata": {},
   "outputs": [
    {
     "data": {
      "text/plain": [
       "array([ 151.98727203,  235.71556635,  162.1548586 , -284.08660204,\n",
       "        -40.30122699,   -2.26485608])"
      ]
     },
     "execution_count": 27,
     "metadata": {},
     "output_type": "execute_result"
    }
   ],
   "source": [
    "result_Marlon_Moraes_scatter.values"
   ]
  },
  {
   "cell_type": "code",
   "execution_count": 39,
   "metadata": {},
   "outputs": [
    {
     "data": {
      "text/plain": [
       "<matplotlib.axes._subplots.AxesSubplot at 0x1a1f099b50>"
      ]
     },
     "execution_count": 39,
     "metadata": {},
     "output_type": "execute_result"
    },
    {
     "data": {
      "image/png": "[encoded data removed]",
      "text/plain": [
       "<Figure size 432x288 with 1 Axes>"
      ]
     },
     "metadata": {
      "needs_background": "light"
     },
     "output_type": "display_data"
    }
   ],
   "source": [
    "av=principalDf[\"principal component 1\"]\n",
    "bv=principalDf[\"principal component 2\"]\n",
    "\n",
    "\n",
    "\n",
    "principalDf.plot(kind='scatter', x=\"principal component 1\", y=\"principal component 2\")\n"
   ]
  },
  {
   "cell_type": "code",
   "execution_count": 395,
   "metadata": {},
   "outputs": [],
   "source": [
    "#  import matplotlib.pyplot as plt\n",
    "\n",
    "# fig = plt.figure(figsize = (8,8))\n",
    "# ax = fig.add_subplot(1,1,1) \n",
    "# ax.set_xlabel('Principal Component 1', fontsize = 15)\n",
    "# ax.set_ylabel('Principal Component 2', fontsize = 15)\n",
    "# ax.set_title('2 component PCA', fontsize = 20)\n",
    "# targets = [\"Henry Cejudo\",\"Marlon Moraes\"]\n",
    "# colors = ['r','b']\n",
    "# for target, color in zip(targets,colors):\n",
    "#     indicesToKeep = finalDf[[\"R_fighter\",\"B_fighter\"]] == target\n",
    "#     ax.scatter(finalDf.loc[indicesToKeep, result_Henry_Cejudo[\"principal component 1\"]]\n",
    "#                , finalDf.loc[indicesToKeep, result_Marlon_Moraes[\"principal component 1\"]]\n",
    "#                , c = color\n",
    "#                , s = 50)\n",
    "# ax.legend(targets)\n",
    "# ax.grid()"
   ]
  },
  {
   "cell_type": "code",
   "execution_count": null,
   "metadata": {},
   "outputs": [],
   "source": []
  },
  {
   "cell_type": "code",
   "execution_count": null,
   "metadata": {},
   "outputs": [],
   "source": []
  },
  {
   "cell_type": "code",
   "execution_count": null,
   "metadata": {},
   "outputs": [],
   "source": []
  }
 ],
 "metadata": {
  "kernelspec": {
   "display_name": "Python 3",
   "language": "python",
   "name": "python3"
  },
  "language_info": {
   "codemirror_mode": {
    "name": "ipython",
    "version": 3
   },
   "file_extension": ".py",
   "mimetype": "text/x-python",
   "name": "python",
   "nbconvert_exporter": "python",
   "pygments_lexer": "ipython3",
   "version": "3.7.4"
  }
 },
 "nbformat": 4,
 "nbformat_minor": 2
}
